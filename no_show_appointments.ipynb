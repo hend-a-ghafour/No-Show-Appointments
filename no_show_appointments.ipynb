{
 "cells": [
  {
   "cell_type": "markdown",
   "id": "ddb8b3fe-2733-4e0d-9ea0-fb2c27b1bf9c",
   "metadata": {},
   "source": [
    "1. [Dataset Description](README.md)\n",
    "2.  <a href=\"#asses\">Data Assessing</a>\n",
    "3.  <a href=\"#clean\">Data Cleaning</a>\n",
    "    - <a href=\"#rename\">Renaming Columns</a>\n",
    "    - <a href=\"#dtype\">Renaming Columns</a>\n",
    "    - <a href=\"#insert\">Renaming Columns</a>\n",
    "    - <a href=\"#describe\">Exploring the charcteristics of _\"age\"_ and _\"date_diff\"_</a>\n",
    "4.  <a href=\"#explore\">Data Exploring</a>\n",
    "# Dataset Description:\n",
    "This dataset collects information from 100k medical appointments in Brazil and is focused on the question of whether or not patients show up for their appointment. A number of characteristics about the patient are included in each row.\r",
    "* ***Patientid :*** The identification number of the patient.\n",
    "* ***AppointmentID:*** The identification number of the appointment _\"Key Identifier\"_.\n",
    "* ***Gender:*** _\"M\"_ for Male, and _\"F\"_ for Female.\n",
    "* ***ScheduleDay:*** Tells us on what day the patient set up their appointment.\n",
    "* ***Age:*** The patient's age.\n",
    "* ***Neighbourhood:*** Indicates the location of the hospital\n",
    "* ***Scholaeship:*** Indicates whether or not the patient is enro in Brasilian welfare program [Bolsa Família](https://www.google.com/url?q=https://en.wikipedia.org/wiki/Bolsa_Fam%25C3%25ADlia&sa=D&source=editors&ust=1724087817860577&usg=AOvVaw2Q_qcF1o_XPTswzKDAbl1Q) .Where, _Enrolled = 1_ and _Not Enroled = 0_.\n",
    "* ***Hipertension (HTN):*** Patients with high blood pressure. Where, _True = 1_ and _False = 0_.\n",
    "* ***Diabetes (DM):*** Patients with high blood sugar levels. Where, _True = 1_ and _False = 0_.\n",
    "* ***Alcoholism (AUD):*** Alcohol use disorder. Where, _True = 1_ and _False = 0_.\n",
    "* ***Handicap (HCP):*** an illness, injury, or condition that makes it difficult for someone to do some things that other people do. Where, _True = [1,2,3,4]_ and _False = 0_.\n",
    "* ***SMS_received:*** 1 or more messages sent to the patient. Where, _True = 1_ and _False = 0_.\n",
    "* ***No-show:*** _\"No\"_ if the patient showed up to their appointment,and _\"Yes\"_ if they did not show up.\n",
    "\n"
   ]
  },
  {
   "cell_type": "code",
   "execution_count": 733,
   "id": "f1266965-bb6e-4fc4-85db-e321fdb2eb8d",
   "metadata": {},
   "outputs": [],
   "source": [
    "# Importing Liberaries:\n",
    "import pandas as pd\n",
    "import numpy as np\n",
    "import matplotlib.pyplot as plt\n",
    "import seaborn as sns"
   ]
  },
  {
   "cell_type": "markdown",
   "id": "e1bf89ae-dec6-4f44-accf-9e3a496f77df",
   "metadata": {},
   "source": [
    "<a id='asses'></a>\n",
    "## 1- Data Assessing:"
   ]
  },
  {
   "cell_type": "code",
   "execution_count": 735,
   "id": "59a04453-b1a4-4c0d-9b42-9f9add562bdf",
   "metadata": {},
   "outputs": [
    {
     "data": {
      "text/html": [
       "<div>\n",
       "<style scoped>\n",
       "    .dataframe tbody tr th:only-of-type {\n",
       "        vertical-align: middle;\n",
       "    }\n",
       "\n",
       "    .dataframe tbody tr th {\n",
       "        vertical-align: top;\n",
       "    }\n",
       "\n",
       "    .dataframe thead th {\n",
       "        text-align: right;\n",
       "    }\n",
       "</style>\n",
       "<table border=\"1\" class=\"dataframe\">\n",
       "  <thead>\n",
       "    <tr style=\"text-align: right;\">\n",
       "      <th></th>\n",
       "      <th>PatientId</th>\n",
       "      <th>AppointmentID</th>\n",
       "      <th>Gender</th>\n",
       "      <th>ScheduledDay</th>\n",
       "      <th>AppointmentDay</th>\n",
       "      <th>Age</th>\n",
       "      <th>Neighbourhood</th>\n",
       "      <th>Scholarship</th>\n",
       "      <th>Hipertension</th>\n",
       "      <th>Diabetes</th>\n",
       "      <th>Alcoholism</th>\n",
       "      <th>Handcap</th>\n",
       "      <th>SMS_received</th>\n",
       "      <th>No-show</th>\n",
       "    </tr>\n",
       "  </thead>\n",
       "  <tbody>\n",
       "    <tr>\n",
       "      <th>0</th>\n",
       "      <td>2.987250e+13</td>\n",
       "      <td>5642903</td>\n",
       "      <td>F</td>\n",
       "      <td>2016-04-29T18:38:08Z</td>\n",
       "      <td>2016-04-29T00:00:00Z</td>\n",
       "      <td>62</td>\n",
       "      <td>JARDIM DA PENHA</td>\n",
       "      <td>0</td>\n",
       "      <td>1</td>\n",
       "      <td>0</td>\n",
       "      <td>0</td>\n",
       "      <td>0</td>\n",
       "      <td>0</td>\n",
       "      <td>No</td>\n",
       "    </tr>\n",
       "    <tr>\n",
       "      <th>1</th>\n",
       "      <td>5.589978e+14</td>\n",
       "      <td>5642503</td>\n",
       "      <td>M</td>\n",
       "      <td>2016-04-29T16:08:27Z</td>\n",
       "      <td>2016-04-29T00:00:00Z</td>\n",
       "      <td>56</td>\n",
       "      <td>JARDIM DA PENHA</td>\n",
       "      <td>0</td>\n",
       "      <td>0</td>\n",
       "      <td>0</td>\n",
       "      <td>0</td>\n",
       "      <td>0</td>\n",
       "      <td>0</td>\n",
       "      <td>No</td>\n",
       "    </tr>\n",
       "    <tr>\n",
       "      <th>2</th>\n",
       "      <td>4.262962e+12</td>\n",
       "      <td>5642549</td>\n",
       "      <td>F</td>\n",
       "      <td>2016-04-29T16:19:04Z</td>\n",
       "      <td>2016-04-29T00:00:00Z</td>\n",
       "      <td>62</td>\n",
       "      <td>MATA DA PRAIA</td>\n",
       "      <td>0</td>\n",
       "      <td>0</td>\n",
       "      <td>0</td>\n",
       "      <td>0</td>\n",
       "      <td>0</td>\n",
       "      <td>0</td>\n",
       "      <td>No</td>\n",
       "    </tr>\n",
       "    <tr>\n",
       "      <th>3</th>\n",
       "      <td>8.679512e+11</td>\n",
       "      <td>5642828</td>\n",
       "      <td>F</td>\n",
       "      <td>2016-04-29T17:29:31Z</td>\n",
       "      <td>2016-04-29T00:00:00Z</td>\n",
       "      <td>8</td>\n",
       "      <td>PONTAL DE CAMBURI</td>\n",
       "      <td>0</td>\n",
       "      <td>0</td>\n",
       "      <td>0</td>\n",
       "      <td>0</td>\n",
       "      <td>0</td>\n",
       "      <td>0</td>\n",
       "      <td>No</td>\n",
       "    </tr>\n",
       "    <tr>\n",
       "      <th>4</th>\n",
       "      <td>8.841186e+12</td>\n",
       "      <td>5642494</td>\n",
       "      <td>F</td>\n",
       "      <td>2016-04-29T16:07:23Z</td>\n",
       "      <td>2016-04-29T00:00:00Z</td>\n",
       "      <td>56</td>\n",
       "      <td>JARDIM DA PENHA</td>\n",
       "      <td>0</td>\n",
       "      <td>1</td>\n",
       "      <td>1</td>\n",
       "      <td>0</td>\n",
       "      <td>0</td>\n",
       "      <td>0</td>\n",
       "      <td>No</td>\n",
       "    </tr>\n",
       "  </tbody>\n",
       "</table>\n",
       "</div>"
      ],
      "text/plain": [
       "      PatientId  AppointmentID Gender          ScheduledDay  \\\n",
       "0  2.987250e+13        5642903      F  2016-04-29T18:38:08Z   \n",
       "1  5.589978e+14        5642503      M  2016-04-29T16:08:27Z   \n",
       "2  4.262962e+12        5642549      F  2016-04-29T16:19:04Z   \n",
       "3  8.679512e+11        5642828      F  2016-04-29T17:29:31Z   \n",
       "4  8.841186e+12        5642494      F  2016-04-29T16:07:23Z   \n",
       "\n",
       "         AppointmentDay  Age      Neighbourhood  Scholarship  Hipertension  \\\n",
       "0  2016-04-29T00:00:00Z   62    JARDIM DA PENHA            0             1   \n",
       "1  2016-04-29T00:00:00Z   56    JARDIM DA PENHA            0             0   \n",
       "2  2016-04-29T00:00:00Z   62      MATA DA PRAIA            0             0   \n",
       "3  2016-04-29T00:00:00Z    8  PONTAL DE CAMBURI            0             0   \n",
       "4  2016-04-29T00:00:00Z   56    JARDIM DA PENHA            0             1   \n",
       "\n",
       "   Diabetes  Alcoholism  Handcap  SMS_received No-show  \n",
       "0         0           0        0             0      No  \n",
       "1         0           0        0             0      No  \n",
       "2         0           0        0             0      No  \n",
       "3         0           0        0             0      No  \n",
       "4         1           0        0             0      No  "
      ]
     },
     "execution_count": 735,
     "metadata": {},
     "output_type": "execute_result"
    }
   ],
   "source": [
    "# Exploring data characteristics of the dataset:\n",
    "df= pd.read_csv('no_show_appointments.csv')\n",
    "df.head()"
   ]
  },
  {
   "cell_type": "code",
   "execution_count": 736,
   "id": "449c75ba-7bfb-48aa-ae1c-713e2acfb0a8",
   "metadata": {},
   "outputs": [
    {
     "name": "stdout",
     "output_type": "stream",
     "text": [
      "<class 'pandas.core.frame.DataFrame'>\n",
      "RangeIndex: 110527 entries, 0 to 110526\n",
      "Data columns (total 14 columns):\n",
      " #   Column          Non-Null Count   Dtype  \n",
      "---  ------          --------------   -----  \n",
      " 0   PatientId       110527 non-null  float64\n",
      " 1   AppointmentID   110527 non-null  int64  \n",
      " 2   Gender          110527 non-null  object \n",
      " 3   ScheduledDay    110527 non-null  object \n",
      " 4   AppointmentDay  110527 non-null  object \n",
      " 5   Age             110527 non-null  int64  \n",
      " 6   Neighbourhood   110527 non-null  object \n",
      " 7   Scholarship     110527 non-null  int64  \n",
      " 8   Hipertension    110527 non-null  int64  \n",
      " 9   Diabetes        110527 non-null  int64  \n",
      " 10  Alcoholism      110527 non-null  int64  \n",
      " 11  Handcap         110527 non-null  int64  \n",
      " 12  SMS_received    110527 non-null  int64  \n",
      " 13  No-show         110527 non-null  object \n",
      "dtypes: float64(1), int64(8), object(5)\n",
      "memory usage: 11.8+ MB\n"
     ]
    }
   ],
   "source": [
    "df.info()"
   ]
  },
  {
   "cell_type": "code",
   "execution_count": 737,
   "id": "998cbb36-3272-492f-8e63-7ab09be8205d",
   "metadata": {},
   "outputs": [
    {
     "name": "stdout",
     "output_type": "stream",
     "text": [
      "The dataset has a shape of: (110527, 14)\n"
     ]
    }
   ],
   "source": [
    "print('The dataset has a shape of:',df.shape)"
   ]
  },
  {
   "cell_type": "code",
   "execution_count": 738,
   "id": "38d41120-532f-4092-b4ae-b041e6d66576",
   "metadata": {},
   "outputs": [
    {
     "name": "stdout",
     "output_type": "stream",
     "text": [
      "No NULL values in this dataset\n"
     ]
    }
   ],
   "source": [
    "if df.isna().sum().sum()== 0:\n",
    "    print ('No NULL values in this dataset')\n",
    "else:\n",
    "    print('Total number of Null Values is: ',df.isna().sum().sum())"
   ]
  },
  {
   "cell_type": "code",
   "execution_count": 739,
   "id": "00c4d9ab-51bc-41ba-91d9-e5b556a96b96",
   "metadata": {},
   "outputs": [
    {
     "name": "stdout",
     "output_type": "stream",
     "text": [
      "No DUPLICATED values in this dataset\n"
     ]
    }
   ],
   "source": [
    "if df.duplicated().sum()== 0:\n",
    "    print ('No DUPLICATED values in this dataset')\n",
    "else:\n",
    "    print('Total number of Duplicated Values is: ',df.duplicated().sum())"
   ]
  },
  {
   "cell_type": "code",
   "execution_count": 740,
   "id": "62d745f6-badc-4fe6-bacf-9cd31df7d8ee",
   "metadata": {},
   "outputs": [
    {
     "name": "stdout",
     "output_type": "stream",
     "text": [
      "The number of UNIQUE values in this dataset:\n",
      "\n",
      " PatientId          62299\n",
      "AppointmentID     110527\n",
      "Gender                 2\n",
      "ScheduledDay      103549\n",
      "AppointmentDay        27\n",
      "Age                  104\n",
      "Neighbourhood         81\n",
      "Scholarship            2\n",
      "Hipertension           2\n",
      "Diabetes               2\n",
      "Alcoholism             2\n",
      "Handcap                5\n",
      "SMS_received           2\n",
      "No-show                2\n",
      "dtype: int64\n"
     ]
    }
   ],
   "source": [
    "print('The number of UNIQUE values in this dataset:\\n\\n',df.nunique())"
   ]
  },
  {
   "cell_type": "code",
   "execution_count": 741,
   "id": "58e04401-09d0-429a-9096-828a273b9784",
   "metadata": {},
   "outputs": [
    {
     "data": {
      "text/html": [
       "<div>\n",
       "<style scoped>\n",
       "    .dataframe tbody tr th:only-of-type {\n",
       "        vertical-align: middle;\n",
       "    }\n",
       "\n",
       "    .dataframe tbody tr th {\n",
       "        vertical-align: top;\n",
       "    }\n",
       "\n",
       "    .dataframe thead th {\n",
       "        text-align: right;\n",
       "    }\n",
       "</style>\n",
       "<table border=\"1\" class=\"dataframe\">\n",
       "  <thead>\n",
       "    <tr style=\"text-align: right;\">\n",
       "      <th></th>\n",
       "      <th>PatientId</th>\n",
       "      <th>AppointmentID</th>\n",
       "      <th>Gender</th>\n",
       "      <th>ScheduledDay</th>\n",
       "      <th>AppointmentDay</th>\n",
       "      <th>Age</th>\n",
       "      <th>Neighbourhood</th>\n",
       "      <th>Scholarship</th>\n",
       "      <th>Hipertension</th>\n",
       "      <th>Diabetes</th>\n",
       "      <th>Alcoholism</th>\n",
       "      <th>Handcap</th>\n",
       "      <th>SMS_received</th>\n",
       "      <th>No-show</th>\n",
       "    </tr>\n",
       "  </thead>\n",
       "  <tbody>\n",
       "    <tr>\n",
       "      <th>0</th>\n",
       "      <td>2.987250e+13</td>\n",
       "      <td>5642903</td>\n",
       "      <td>F</td>\n",
       "      <td>2016-04-29T18:38:08Z</td>\n",
       "      <td>2016-04-29T00:00:00Z</td>\n",
       "      <td>62</td>\n",
       "      <td>JARDIM DA PENHA</td>\n",
       "      <td>0</td>\n",
       "      <td>1</td>\n",
       "      <td>0</td>\n",
       "      <td>0</td>\n",
       "      <td>0</td>\n",
       "      <td>0</td>\n",
       "      <td>No</td>\n",
       "    </tr>\n",
       "  </tbody>\n",
       "</table>\n",
       "</div>"
      ],
      "text/plain": [
       "      PatientId  AppointmentID Gender          ScheduledDay  \\\n",
       "0  2.987250e+13        5642903      F  2016-04-29T18:38:08Z   \n",
       "\n",
       "         AppointmentDay  Age    Neighbourhood  Scholarship  Hipertension  \\\n",
       "0  2016-04-29T00:00:00Z   62  JARDIM DA PENHA            0             1   \n",
       "\n",
       "   Diabetes  Alcoholism  Handcap  SMS_received No-show  \n",
       "0         0           0        0             0      No  "
      ]
     },
     "execution_count": 741,
     "metadata": {},
     "output_type": "execute_result"
    }
   ],
   "source": [
    "df.head(1)"
   ]
  },
  {
   "cell_type": "code",
   "execution_count": 742,
   "id": "4f186423-b1e1-4e5a-84f5-4c65a3af61dd",
   "metadata": {},
   "outputs": [
    {
     "name": "stdout",
     "output_type": "stream",
     "text": [
      "\"Gender\" Categories:         ['F' 'M']\n",
      "\n",
      "\"Scolarship\" Categories:     [0 1]\n",
      "\n",
      "\"Hipertension\" Category:     [1 0]\n",
      "\n",
      "\"Diabetes\" Category:         [0 1]\n",
      "\n",
      "\"Alcoholism\" Category:       [0 1]\n",
      "\n",
      "\"Handcap\" Category:          [0 1 2 3 4]\n",
      "\n",
      "\"SMS_received\" Category:     [0 1]\n",
      "\n",
      "\"No-show\" Category:          ['No' 'Yes']\n"
     ]
    }
   ],
   "source": [
    "print('\"Gender\" Categories:        ',df.Gender.unique())\n",
    "print('\\n\"Scolarship\" Categories:    ', df.Scholarship.unique())\n",
    "print('\\n\"Hipertension\" Category:    ', df.Hipertension.unique())\n",
    "print('\\n\"Diabetes\" Category:        ', df.Diabetes.unique())\n",
    "print('\\n\"Alcoholism\" Category:      ', df.Alcoholism.unique())\n",
    "print('\\n\"Handcap\" Category:         ', df.Handcap.unique())\n",
    "print('\\n\"SMS_received\" Category:    ', df['SMS_received'].unique())\n",
    "print('\\n\"No-show\" Category:         ', df['No-show'].unique())"
   ]
  },
  {
   "cell_type": "code",
   "execution_count": 743,
   "id": "df7a22fc-2a70-428d-9b6e-14d9b9dc8d7a",
   "metadata": {},
   "outputs": [
    {
     "data": {
      "text/html": [
       "<div>\n",
       "<style scoped>\n",
       "    .dataframe tbody tr th:only-of-type {\n",
       "        vertical-align: middle;\n",
       "    }\n",
       "\n",
       "    .dataframe tbody tr th {\n",
       "        vertical-align: top;\n",
       "    }\n",
       "\n",
       "    .dataframe thead th {\n",
       "        text-align: right;\n",
       "    }\n",
       "</style>\n",
       "<table border=\"1\" class=\"dataframe\">\n",
       "  <thead>\n",
       "    <tr style=\"text-align: right;\">\n",
       "      <th></th>\n",
       "      <th>PatientId</th>\n",
       "      <th>AppointmentID</th>\n",
       "      <th>Age</th>\n",
       "      <th>Scholarship</th>\n",
       "      <th>Hipertension</th>\n",
       "      <th>Diabetes</th>\n",
       "      <th>Alcoholism</th>\n",
       "      <th>Handcap</th>\n",
       "      <th>SMS_received</th>\n",
       "    </tr>\n",
       "  </thead>\n",
       "  <tbody>\n",
       "    <tr>\n",
       "      <th>count</th>\n",
       "      <td>1.105270e+05</td>\n",
       "      <td>1.105270e+05</td>\n",
       "      <td>110527.000000</td>\n",
       "      <td>110527.000000</td>\n",
       "      <td>110527.000000</td>\n",
       "      <td>110527.000000</td>\n",
       "      <td>110527.000000</td>\n",
       "      <td>110527.000000</td>\n",
       "      <td>110527.000000</td>\n",
       "    </tr>\n",
       "    <tr>\n",
       "      <th>mean</th>\n",
       "      <td>1.474963e+14</td>\n",
       "      <td>5.675305e+06</td>\n",
       "      <td>37.088874</td>\n",
       "      <td>0.098266</td>\n",
       "      <td>0.197246</td>\n",
       "      <td>0.071865</td>\n",
       "      <td>0.030400</td>\n",
       "      <td>0.022248</td>\n",
       "      <td>0.321026</td>\n",
       "    </tr>\n",
       "    <tr>\n",
       "      <th>std</th>\n",
       "      <td>2.560949e+14</td>\n",
       "      <td>7.129575e+04</td>\n",
       "      <td>23.110205</td>\n",
       "      <td>0.297675</td>\n",
       "      <td>0.397921</td>\n",
       "      <td>0.258265</td>\n",
       "      <td>0.171686</td>\n",
       "      <td>0.161543</td>\n",
       "      <td>0.466873</td>\n",
       "    </tr>\n",
       "    <tr>\n",
       "      <th>min</th>\n",
       "      <td>3.921784e+04</td>\n",
       "      <td>5.030230e+06</td>\n",
       "      <td>-1.000000</td>\n",
       "      <td>0.000000</td>\n",
       "      <td>0.000000</td>\n",
       "      <td>0.000000</td>\n",
       "      <td>0.000000</td>\n",
       "      <td>0.000000</td>\n",
       "      <td>0.000000</td>\n",
       "    </tr>\n",
       "    <tr>\n",
       "      <th>25%</th>\n",
       "      <td>4.172614e+12</td>\n",
       "      <td>5.640286e+06</td>\n",
       "      <td>18.000000</td>\n",
       "      <td>0.000000</td>\n",
       "      <td>0.000000</td>\n",
       "      <td>0.000000</td>\n",
       "      <td>0.000000</td>\n",
       "      <td>0.000000</td>\n",
       "      <td>0.000000</td>\n",
       "    </tr>\n",
       "    <tr>\n",
       "      <th>50%</th>\n",
       "      <td>3.173184e+13</td>\n",
       "      <td>5.680573e+06</td>\n",
       "      <td>37.000000</td>\n",
       "      <td>0.000000</td>\n",
       "      <td>0.000000</td>\n",
       "      <td>0.000000</td>\n",
       "      <td>0.000000</td>\n",
       "      <td>0.000000</td>\n",
       "      <td>0.000000</td>\n",
       "    </tr>\n",
       "    <tr>\n",
       "      <th>75%</th>\n",
       "      <td>9.439172e+13</td>\n",
       "      <td>5.725524e+06</td>\n",
       "      <td>55.000000</td>\n",
       "      <td>0.000000</td>\n",
       "      <td>0.000000</td>\n",
       "      <td>0.000000</td>\n",
       "      <td>0.000000</td>\n",
       "      <td>0.000000</td>\n",
       "      <td>1.000000</td>\n",
       "    </tr>\n",
       "    <tr>\n",
       "      <th>max</th>\n",
       "      <td>9.999816e+14</td>\n",
       "      <td>5.790484e+06</td>\n",
       "      <td>115.000000</td>\n",
       "      <td>1.000000</td>\n",
       "      <td>1.000000</td>\n",
       "      <td>1.000000</td>\n",
       "      <td>1.000000</td>\n",
       "      <td>4.000000</td>\n",
       "      <td>1.000000</td>\n",
       "    </tr>\n",
       "  </tbody>\n",
       "</table>\n",
       "</div>"
      ],
      "text/plain": [
       "          PatientId  AppointmentID            Age    Scholarship  \\\n",
       "count  1.105270e+05   1.105270e+05  110527.000000  110527.000000   \n",
       "mean   1.474963e+14   5.675305e+06      37.088874       0.098266   \n",
       "std    2.560949e+14   7.129575e+04      23.110205       0.297675   \n",
       "min    3.921784e+04   5.030230e+06      -1.000000       0.000000   \n",
       "25%    4.172614e+12   5.640286e+06      18.000000       0.000000   \n",
       "50%    3.173184e+13   5.680573e+06      37.000000       0.000000   \n",
       "75%    9.439172e+13   5.725524e+06      55.000000       0.000000   \n",
       "max    9.999816e+14   5.790484e+06     115.000000       1.000000   \n",
       "\n",
       "        Hipertension       Diabetes     Alcoholism        Handcap  \\\n",
       "count  110527.000000  110527.000000  110527.000000  110527.000000   \n",
       "mean        0.197246       0.071865       0.030400       0.022248   \n",
       "std         0.397921       0.258265       0.171686       0.161543   \n",
       "min         0.000000       0.000000       0.000000       0.000000   \n",
       "25%         0.000000       0.000000       0.000000       0.000000   \n",
       "50%         0.000000       0.000000       0.000000       0.000000   \n",
       "75%         0.000000       0.000000       0.000000       0.000000   \n",
       "max         1.000000       1.000000       1.000000       4.000000   \n",
       "\n",
       "        SMS_received  \n",
       "count  110527.000000  \n",
       "mean        0.321026  \n",
       "std         0.466873  \n",
       "min         0.000000  \n",
       "25%         0.000000  \n",
       "50%         0.000000  \n",
       "75%         1.000000  \n",
       "max         1.000000  "
      ]
     },
     "execution_count": 743,
     "metadata": {},
     "output_type": "execute_result"
    }
   ],
   "source": [
    "#The describtive statistics for the whole dataset:\n",
    "df.describe()"
   ]
  },
  {
   "cell_type": "markdown",
   "id": "96cc1c7b-7f5f-45a0-b2dd-dcfa46842b0c",
   "metadata": {},
   "source": [
    "<a id='clean'></a>\n",
    "## 2 - Data Cleaning:"
   ]
  },
  {
   "cell_type": "markdown",
   "id": "d1236cf3-1c41-49ce-bfe2-a7ad332097bf",
   "metadata": {},
   "source": [
    "<a id='rename'></a>\n",
    "### a) Renaming Column labels:\n",
    "   \n",
    "In order to investigate easily the columns  label nees to be changedas follows:\n",
    "   * _PatientId_          to     ***patient_id***\n",
    "   * _AppointmentID_      to     ***appoint_id***\n",
    "   * _Gender_             to     ***gender***\n",
    "   * _ScheduledDay_       to     ***sched_day***\n",
    "   * _AppointmentDay_     to     ***appoint_day***\n",
    "   * _Age_                to     ***age***\n",
    "   * _Neighbourhood_      to     ***neighbourhood***\n",
    "   * _Scholarship_        to     ***scholarship***\n",
    "   * _Hipertension_       to     ***htn***\n",
    "   * _Diabetes_           to     ***dm***\n",
    "   * _Alcoholism_         to     ***aud***\n",
    "   * _Handcap_            to     ***hcp***\n",
    "   * _SMS_received_       to     ***sms_received***\n",
    "   * _No-show_            to     ***no_show***\r\n"
   ]
  },
  {
   "cell_type": "code",
   "execution_count": 746,
   "id": "2c1f53f5-55d7-487c-b4c0-865e7759736c",
   "metadata": {},
   "outputs": [
    {
     "data": {
      "text/html": [
       "<div>\n",
       "<style scoped>\n",
       "    .dataframe tbody tr th:only-of-type {\n",
       "        vertical-align: middle;\n",
       "    }\n",
       "\n",
       "    .dataframe tbody tr th {\n",
       "        vertical-align: top;\n",
       "    }\n",
       "\n",
       "    .dataframe thead th {\n",
       "        text-align: right;\n",
       "    }\n",
       "</style>\n",
       "<table border=\"1\" class=\"dataframe\">\n",
       "  <thead>\n",
       "    <tr style=\"text-align: right;\">\n",
       "      <th></th>\n",
       "      <th>patient_id</th>\n",
       "      <th>appoint_id</th>\n",
       "      <th>gender</th>\n",
       "      <th>sched_day</th>\n",
       "      <th>appoint_day</th>\n",
       "      <th>age</th>\n",
       "      <th>neighbourhood</th>\n",
       "      <th>scholarship</th>\n",
       "      <th>htn</th>\n",
       "      <th>dm</th>\n",
       "      <th>aud</th>\n",
       "      <th>hcp</th>\n",
       "      <th>sms_received</th>\n",
       "      <th>no_show</th>\n",
       "    </tr>\n",
       "  </thead>\n",
       "  <tbody>\n",
       "    <tr>\n",
       "      <th>0</th>\n",
       "      <td>2.987250e+13</td>\n",
       "      <td>5642903</td>\n",
       "      <td>F</td>\n",
       "      <td>2016-04-29T18:38:08Z</td>\n",
       "      <td>2016-04-29T00:00:00Z</td>\n",
       "      <td>62</td>\n",
       "      <td>JARDIM DA PENHA</td>\n",
       "      <td>0</td>\n",
       "      <td>1</td>\n",
       "      <td>0</td>\n",
       "      <td>0</td>\n",
       "      <td>0</td>\n",
       "      <td>0</td>\n",
       "      <td>No</td>\n",
       "    </tr>\n",
       "  </tbody>\n",
       "</table>\n",
       "</div>"
      ],
      "text/plain": [
       "     patient_id  appoint_id gender             sched_day  \\\n",
       "0  2.987250e+13     5642903      F  2016-04-29T18:38:08Z   \n",
       "\n",
       "            appoint_day  age    neighbourhood  scholarship  htn  dm  aud  hcp  \\\n",
       "0  2016-04-29T00:00:00Z   62  JARDIM DA PENHA            0    1   0    0    0   \n",
       "\n",
       "   sms_received no_show  \n",
       "0             0      No  "
      ]
     },
     "execution_count": 746,
     "metadata": {},
     "output_type": "execute_result"
    }
   ],
   "source": [
    "# Renaming the dataset columns:\n",
    "df = df.rename(columns = {\"PatientId\":\"patient_id\", \"AppointmentID\":\"appoint_id\", 'Gender':\"gender\",\"ScheduledDay\":\"sched_day\",\n",
    "                           \"AppointmentDay\":\"appoint_day\",\"Age\":\"age\", \"Neighbourhood\":\"neighbourhood\", \"Scholarship\":\"scholarship\",\n",
    "                           \"Hipertension\":\"htn\", \"Diabetes\":\"dm\", \"Alcoholism\":\"aud\",\"Handcap\":\"hcp\", \"SMS_received\":\"sms_received\",\"No-show\":\"no_show\"})\n",
    "df.head(1)"
   ]
  },
  {
   "cell_type": "markdown",
   "id": "372a11f1-8b3e-4f53-8f24-df911436a03c",
   "metadata": {},
   "source": [
    "<a id='dtype'></a>\n",
    "### b) Changing the data types of:\n",
    "- _patient_id_ to ***integer***\n",
    "- _sched_day_ & _appoint_day_ to ***date format***"
   ]
  },
  {
   "cell_type": "code",
   "execution_count": 748,
   "id": "dbaa0c45-dd20-48d2-966f-83eb654284a7",
   "metadata": {},
   "outputs": [
    {
     "data": {
      "text/html": [
       "<div>\n",
       "<style scoped>\n",
       "    .dataframe tbody tr th:only-of-type {\n",
       "        vertical-align: middle;\n",
       "    }\n",
       "\n",
       "    .dataframe tbody tr th {\n",
       "        vertical-align: top;\n",
       "    }\n",
       "\n",
       "    .dataframe thead th {\n",
       "        text-align: right;\n",
       "    }\n",
       "</style>\n",
       "<table border=\"1\" class=\"dataframe\">\n",
       "  <thead>\n",
       "    <tr style=\"text-align: right;\">\n",
       "      <th></th>\n",
       "      <th>patient_id</th>\n",
       "      <th>appoint_id</th>\n",
       "      <th>gender</th>\n",
       "      <th>sched_day</th>\n",
       "      <th>appoint_day</th>\n",
       "      <th>age</th>\n",
       "      <th>neighbourhood</th>\n",
       "      <th>scholarship</th>\n",
       "      <th>htn</th>\n",
       "      <th>dm</th>\n",
       "      <th>aud</th>\n",
       "      <th>hcp</th>\n",
       "      <th>sms_received</th>\n",
       "      <th>no_show</th>\n",
       "    </tr>\n",
       "  </thead>\n",
       "  <tbody>\n",
       "    <tr>\n",
       "      <th>0</th>\n",
       "      <td>29872499824296</td>\n",
       "      <td>5642903</td>\n",
       "      <td>F</td>\n",
       "      <td>2016-04-29</td>\n",
       "      <td>2016-04-29</td>\n",
       "      <td>62</td>\n",
       "      <td>JARDIM DA PENHA</td>\n",
       "      <td>0</td>\n",
       "      <td>1</td>\n",
       "      <td>0</td>\n",
       "      <td>0</td>\n",
       "      <td>0</td>\n",
       "      <td>0</td>\n",
       "      <td>No</td>\n",
       "    </tr>\n",
       "  </tbody>\n",
       "</table>\n",
       "</div>"
      ],
      "text/plain": [
       "       patient_id  appoint_id gender   sched_day appoint_day  age  \\\n",
       "0  29872499824296     5642903      F  2016-04-29  2016-04-29   62   \n",
       "\n",
       "     neighbourhood  scholarship  htn  dm  aud  hcp  sms_received no_show  \n",
       "0  JARDIM DA PENHA            0    1   0    0    0             0      No  "
      ]
     },
     "execution_count": 748,
     "metadata": {},
     "output_type": "execute_result"
    }
   ],
   "source": [
    "# Changing the data types:\n",
    "df['patient_id'] = df['patient_id'].astype('int64')\n",
    "df['sched_day'] = pd.to_datetime(df['sched_day']).dt.date\n",
    "df['appoint_day'] = pd.to_datetime(df['appoint_day']).dt.date\n",
    "df.head(1)"
   ]
  },
  {
   "cell_type": "code",
   "execution_count": 749,
   "id": "62f3bd48-1472-4998-8aa4-855d9049ec9b",
   "metadata": {},
   "outputs": [
    {
     "name": "stdout",
     "output_type": "stream",
     "text": [
      "<class 'pandas.core.frame.DataFrame'>\n",
      "RangeIndex: 110527 entries, 0 to 110526\n",
      "Data columns (total 14 columns):\n",
      " #   Column         Non-Null Count   Dtype \n",
      "---  ------         --------------   ----- \n",
      " 0   patient_id     110527 non-null  int64 \n",
      " 1   appoint_id     110527 non-null  int64 \n",
      " 2   gender         110527 non-null  object\n",
      " 3   sched_day      110527 non-null  object\n",
      " 4   appoint_day    110527 non-null  object\n",
      " 5   age            110527 non-null  int64 \n",
      " 6   neighbourhood  110527 non-null  object\n",
      " 7   scholarship    110527 non-null  int64 \n",
      " 8   htn            110527 non-null  int64 \n",
      " 9   dm             110527 non-null  int64 \n",
      " 10  aud            110527 non-null  int64 \n",
      " 11  hcp            110527 non-null  int64 \n",
      " 12  sms_received   110527 non-null  int64 \n",
      " 13  no_show        110527 non-null  object\n",
      "dtypes: int64(9), object(5)\n",
      "memory usage: 11.8+ MB\n"
     ]
    }
   ],
   "source": [
    "df.info()"
   ]
  },
  {
   "cell_type": "markdown",
   "id": "7a9124df-d9c2-47f5-9bc0-4e8435af8c92",
   "metadata": {},
   "source": [
    "<a id='insert'></a>\n",
    "### c) Inserting New Columns in the dataset:\n",
    "- ***date_diff:*** To measure the difference in days between  _The Schedule Date_ and _The Appointment Date_.\n",
    "- ***age_stages:*** groupping the _age_ column according to the different stages of human life, as follows:\n",
    "    - **child:** Ages from _0_ to _12_\n",
    "    - **teenage:** Ages greater than _12_ to _21_\n",
    "    - **adult:** Ages greater than _21_ to _40_\n",
    "    - **middle_age:** Ages greater than _40_ to _65_\n",
    "    - **elderly:** Ages greater than _65_\n",
    "  \n"
   ]
  },
  {
   "cell_type": "code",
   "execution_count": 751,
   "id": "23c88bdf-fb9d-43d9-a85a-3bb3ba89c481",
   "metadata": {},
   "outputs": [
    {
     "data": {
      "text/html": [
       "<div>\n",
       "<style scoped>\n",
       "    .dataframe tbody tr th:only-of-type {\n",
       "        vertical-align: middle;\n",
       "    }\n",
       "\n",
       "    .dataframe tbody tr th {\n",
       "        vertical-align: top;\n",
       "    }\n",
       "\n",
       "    .dataframe thead th {\n",
       "        text-align: right;\n",
       "    }\n",
       "</style>\n",
       "<table border=\"1\" class=\"dataframe\">\n",
       "  <thead>\n",
       "    <tr style=\"text-align: right;\">\n",
       "      <th></th>\n",
       "      <th>patient_id</th>\n",
       "      <th>appoint_id</th>\n",
       "      <th>gender</th>\n",
       "      <th>sched_day</th>\n",
       "      <th>appoint_day</th>\n",
       "      <th>age</th>\n",
       "      <th>neighbourhood</th>\n",
       "      <th>scholarship</th>\n",
       "      <th>htn</th>\n",
       "      <th>dm</th>\n",
       "      <th>aud</th>\n",
       "      <th>hcp</th>\n",
       "      <th>sms_received</th>\n",
       "      <th>no_show</th>\n",
       "      <th>date_diff</th>\n",
       "    </tr>\n",
       "  </thead>\n",
       "  <tbody>\n",
       "    <tr>\n",
       "      <th>0</th>\n",
       "      <td>29872499824296</td>\n",
       "      <td>5642903</td>\n",
       "      <td>F</td>\n",
       "      <td>2016-04-29</td>\n",
       "      <td>2016-04-29</td>\n",
       "      <td>62</td>\n",
       "      <td>JARDIM DA PENHA</td>\n",
       "      <td>0</td>\n",
       "      <td>1</td>\n",
       "      <td>0</td>\n",
       "      <td>0</td>\n",
       "      <td>0</td>\n",
       "      <td>0</td>\n",
       "      <td>No</td>\n",
       "      <td>0</td>\n",
       "    </tr>\n",
       "  </tbody>\n",
       "</table>\n",
       "</div>"
      ],
      "text/plain": [
       "       patient_id  appoint_id gender   sched_day appoint_day  age  \\\n",
       "0  29872499824296     5642903      F  2016-04-29  2016-04-29   62   \n",
       "\n",
       "     neighbourhood  scholarship  htn  dm  aud  hcp  sms_received no_show  \\\n",
       "0  JARDIM DA PENHA            0    1   0    0    0             0      No   \n",
       "\n",
       "   date_diff  \n",
       "0          0  "
      ]
     },
     "execution_count": 751,
     "metadata": {},
     "output_type": "execute_result"
    }
   ],
   "source": [
    "# Inserting the \"date_diff\" column:\n",
    "df['date_diff']= (df['appoint_day']- df['sched_day']).dt.days\n",
    "df.head(1)"
   ]
  },
  {
   "cell_type": "code",
   "execution_count": 752,
   "id": "eb3b0651-68ca-4736-a74f-9191b83072bd",
   "metadata": {},
   "outputs": [
    {
     "data": {
      "text/html": [
       "<div>\n",
       "<style scoped>\n",
       "    .dataframe tbody tr th:only-of-type {\n",
       "        vertical-align: middle;\n",
       "    }\n",
       "\n",
       "    .dataframe tbody tr th {\n",
       "        vertical-align: top;\n",
       "    }\n",
       "\n",
       "    .dataframe thead th {\n",
       "        text-align: right;\n",
       "    }\n",
       "</style>\n",
       "<table border=\"1\" class=\"dataframe\">\n",
       "  <thead>\n",
       "    <tr style=\"text-align: right;\">\n",
       "      <th></th>\n",
       "      <th>patient_id</th>\n",
       "      <th>appoint_id</th>\n",
       "      <th>gender</th>\n",
       "      <th>sched_day</th>\n",
       "      <th>appoint_day</th>\n",
       "      <th>date_diff</th>\n",
       "      <th>age</th>\n",
       "      <th>neighbourhood</th>\n",
       "      <th>scholarship</th>\n",
       "      <th>htn</th>\n",
       "      <th>dm</th>\n",
       "      <th>aud</th>\n",
       "      <th>hcp</th>\n",
       "      <th>sms_received</th>\n",
       "      <th>no_show</th>\n",
       "    </tr>\n",
       "  </thead>\n",
       "  <tbody>\n",
       "    <tr>\n",
       "      <th>0</th>\n",
       "      <td>29872499824296</td>\n",
       "      <td>5642903</td>\n",
       "      <td>F</td>\n",
       "      <td>2016-04-29</td>\n",
       "      <td>2016-04-29</td>\n",
       "      <td>0</td>\n",
       "      <td>62</td>\n",
       "      <td>JARDIM DA PENHA</td>\n",
       "      <td>0</td>\n",
       "      <td>1</td>\n",
       "      <td>0</td>\n",
       "      <td>0</td>\n",
       "      <td>0</td>\n",
       "      <td>0</td>\n",
       "      <td>No</td>\n",
       "    </tr>\n",
       "  </tbody>\n",
       "</table>\n",
       "</div>"
      ],
      "text/plain": [
       "       patient_id  appoint_id gender   sched_day appoint_day  date_diff  age  \\\n",
       "0  29872499824296     5642903      F  2016-04-29  2016-04-29          0   62   \n",
       "\n",
       "     neighbourhood  scholarship  htn  dm  aud  hcp  sms_received no_show  \n",
       "0  JARDIM DA PENHA            0    1   0    0    0             0      No  "
      ]
     },
     "execution_count": 752,
     "metadata": {},
     "output_type": "execute_result"
    }
   ],
   "source": [
    "# relocating the \"date_diff\" column to be in the 5th column:\n",
    "df.insert(5,'date_diff',df.pop('date_diff'))\n",
    "df.head(1)"
   ]
  },
  {
   "cell_type": "code",
   "execution_count": null,
   "id": "7aa37347-38a4-4fe5-a7bf-7067770629e4",
   "metadata": {},
   "outputs": [],
   "source": []
  },
  {
   "cell_type": "code",
   "execution_count": 753,
   "id": "92f1da9e-043c-4203-91af-0b03552c1f35",
   "metadata": {},
   "outputs": [
    {
     "data": {
      "text/html": [
       "<div>\n",
       "<style scoped>\n",
       "    .dataframe tbody tr th:only-of-type {\n",
       "        vertical-align: middle;\n",
       "    }\n",
       "\n",
       "    .dataframe tbody tr th {\n",
       "        vertical-align: top;\n",
       "    }\n",
       "\n",
       "    .dataframe thead th {\n",
       "        text-align: right;\n",
       "    }\n",
       "</style>\n",
       "<table border=\"1\" class=\"dataframe\">\n",
       "  <thead>\n",
       "    <tr style=\"text-align: right;\">\n",
       "      <th></th>\n",
       "      <th>patient_id</th>\n",
       "      <th>appoint_id</th>\n",
       "      <th>gender</th>\n",
       "      <th>sched_day</th>\n",
       "      <th>appoint_day</th>\n",
       "      <th>date_diff</th>\n",
       "      <th>age</th>\n",
       "      <th>neighbourhood</th>\n",
       "      <th>scholarship</th>\n",
       "      <th>htn</th>\n",
       "      <th>dm</th>\n",
       "      <th>aud</th>\n",
       "      <th>hcp</th>\n",
       "      <th>sms_received</th>\n",
       "      <th>no_show</th>\n",
       "      <th>age_stages</th>\n",
       "    </tr>\n",
       "  </thead>\n",
       "  <tbody>\n",
       "    <tr>\n",
       "      <th>0</th>\n",
       "      <td>29872499824296</td>\n",
       "      <td>5642903</td>\n",
       "      <td>F</td>\n",
       "      <td>2016-04-29</td>\n",
       "      <td>2016-04-29</td>\n",
       "      <td>0</td>\n",
       "      <td>62</td>\n",
       "      <td>JARDIM DA PENHA</td>\n",
       "      <td>0</td>\n",
       "      <td>1</td>\n",
       "      <td>0</td>\n",
       "      <td>0</td>\n",
       "      <td>0</td>\n",
       "      <td>0</td>\n",
       "      <td>No</td>\n",
       "      <td>middle_aged</td>\n",
       "    </tr>\n",
       "    <tr>\n",
       "      <th>1</th>\n",
       "      <td>558997776694438</td>\n",
       "      <td>5642503</td>\n",
       "      <td>M</td>\n",
       "      <td>2016-04-29</td>\n",
       "      <td>2016-04-29</td>\n",
       "      <td>0</td>\n",
       "      <td>56</td>\n",
       "      <td>JARDIM DA PENHA</td>\n",
       "      <td>0</td>\n",
       "      <td>0</td>\n",
       "      <td>0</td>\n",
       "      <td>0</td>\n",
       "      <td>0</td>\n",
       "      <td>0</td>\n",
       "      <td>No</td>\n",
       "      <td>middle_aged</td>\n",
       "    </tr>\n",
       "    <tr>\n",
       "      <th>2</th>\n",
       "      <td>4262962299951</td>\n",
       "      <td>5642549</td>\n",
       "      <td>F</td>\n",
       "      <td>2016-04-29</td>\n",
       "      <td>2016-04-29</td>\n",
       "      <td>0</td>\n",
       "      <td>62</td>\n",
       "      <td>MATA DA PRAIA</td>\n",
       "      <td>0</td>\n",
       "      <td>0</td>\n",
       "      <td>0</td>\n",
       "      <td>0</td>\n",
       "      <td>0</td>\n",
       "      <td>0</td>\n",
       "      <td>No</td>\n",
       "      <td>middle_aged</td>\n",
       "    </tr>\n",
       "    <tr>\n",
       "      <th>3</th>\n",
       "      <td>867951213174</td>\n",
       "      <td>5642828</td>\n",
       "      <td>F</td>\n",
       "      <td>2016-04-29</td>\n",
       "      <td>2016-04-29</td>\n",
       "      <td>0</td>\n",
       "      <td>8</td>\n",
       "      <td>PONTAL DE CAMBURI</td>\n",
       "      <td>0</td>\n",
       "      <td>0</td>\n",
       "      <td>0</td>\n",
       "      <td>0</td>\n",
       "      <td>0</td>\n",
       "      <td>0</td>\n",
       "      <td>No</td>\n",
       "      <td>child</td>\n",
       "    </tr>\n",
       "    <tr>\n",
       "      <th>4</th>\n",
       "      <td>8841186448183</td>\n",
       "      <td>5642494</td>\n",
       "      <td>F</td>\n",
       "      <td>2016-04-29</td>\n",
       "      <td>2016-04-29</td>\n",
       "      <td>0</td>\n",
       "      <td>56</td>\n",
       "      <td>JARDIM DA PENHA</td>\n",
       "      <td>0</td>\n",
       "      <td>1</td>\n",
       "      <td>1</td>\n",
       "      <td>0</td>\n",
       "      <td>0</td>\n",
       "      <td>0</td>\n",
       "      <td>No</td>\n",
       "      <td>middle_aged</td>\n",
       "    </tr>\n",
       "  </tbody>\n",
       "</table>\n",
       "</div>"
      ],
      "text/plain": [
       "        patient_id  appoint_id gender   sched_day appoint_day  date_diff  age  \\\n",
       "0   29872499824296     5642903      F  2016-04-29  2016-04-29          0   62   \n",
       "1  558997776694438     5642503      M  2016-04-29  2016-04-29          0   56   \n",
       "2    4262962299951     5642549      F  2016-04-29  2016-04-29          0   62   \n",
       "3     867951213174     5642828      F  2016-04-29  2016-04-29          0    8   \n",
       "4    8841186448183     5642494      F  2016-04-29  2016-04-29          0   56   \n",
       "\n",
       "       neighbourhood  scholarship  htn  dm  aud  hcp  sms_received no_show  \\\n",
       "0    JARDIM DA PENHA            0    1   0    0    0             0      No   \n",
       "1    JARDIM DA PENHA            0    0   0    0    0             0      No   \n",
       "2      MATA DA PRAIA            0    0   0    0    0             0      No   \n",
       "3  PONTAL DE CAMBURI            0    0   0    0    0             0      No   \n",
       "4    JARDIM DA PENHA            0    1   1    0    0             0      No   \n",
       "\n",
       "    age_stages  \n",
       "0  middle_aged  \n",
       "1  middle_aged  \n",
       "2  middle_aged  \n",
       "3        child  \n",
       "4  middle_aged  "
      ]
     },
     "execution_count": 753,
     "metadata": {},
     "output_type": "execute_result"
    }
   ],
   "source": [
    "# Inserting the \"age_stages\" column:\n",
    "df['age_stages']= ['child' if x <= 12\n",
    "                   else 'teenage' if 12 < x <= 21\n",
    "                   else 'adult' if 21 < x <= 40\n",
    "                   else 'middle_aged' if 40 < x <= 65\n",
    "                   else 'elderly' for x in df['age']]\n",
    "df.head()"
   ]
  },
  {
   "cell_type": "code",
   "execution_count": 754,
   "id": "9db10ead-98d9-4608-8c27-de2c05bb1f23",
   "metadata": {},
   "outputs": [
    {
     "data": {
      "text/html": [
       "<div>\n",
       "<style scoped>\n",
       "    .dataframe tbody tr th:only-of-type {\n",
       "        vertical-align: middle;\n",
       "    }\n",
       "\n",
       "    .dataframe tbody tr th {\n",
       "        vertical-align: top;\n",
       "    }\n",
       "\n",
       "    .dataframe thead th {\n",
       "        text-align: right;\n",
       "    }\n",
       "</style>\n",
       "<table border=\"1\" class=\"dataframe\">\n",
       "  <thead>\n",
       "    <tr style=\"text-align: right;\">\n",
       "      <th></th>\n",
       "      <th>patient_id</th>\n",
       "      <th>appoint_id</th>\n",
       "      <th>gender</th>\n",
       "      <th>sched_day</th>\n",
       "      <th>appoint_day</th>\n",
       "      <th>date_diff</th>\n",
       "      <th>age_stages</th>\n",
       "      <th>age</th>\n",
       "      <th>neighbourhood</th>\n",
       "      <th>scholarship</th>\n",
       "      <th>htn</th>\n",
       "      <th>dm</th>\n",
       "      <th>aud</th>\n",
       "      <th>hcp</th>\n",
       "      <th>sms_received</th>\n",
       "      <th>no_show</th>\n",
       "    </tr>\n",
       "  </thead>\n",
       "  <tbody>\n",
       "    <tr>\n",
       "      <th>0</th>\n",
       "      <td>29872499824296</td>\n",
       "      <td>5642903</td>\n",
       "      <td>F</td>\n",
       "      <td>2016-04-29</td>\n",
       "      <td>2016-04-29</td>\n",
       "      <td>0</td>\n",
       "      <td>middle_aged</td>\n",
       "      <td>62</td>\n",
       "      <td>JARDIM DA PENHA</td>\n",
       "      <td>0</td>\n",
       "      <td>1</td>\n",
       "      <td>0</td>\n",
       "      <td>0</td>\n",
       "      <td>0</td>\n",
       "      <td>0</td>\n",
       "      <td>No</td>\n",
       "    </tr>\n",
       "  </tbody>\n",
       "</table>\n",
       "</div>"
      ],
      "text/plain": [
       "       patient_id  appoint_id gender   sched_day appoint_day  date_diff  \\\n",
       "0  29872499824296     5642903      F  2016-04-29  2016-04-29          0   \n",
       "\n",
       "    age_stages  age    neighbourhood  scholarship  htn  dm  aud  hcp  \\\n",
       "0  middle_aged   62  JARDIM DA PENHA            0    1   0    0    0   \n",
       "\n",
       "   sms_received no_show  \n",
       "0             0      No  "
      ]
     },
     "execution_count": 754,
     "metadata": {},
     "output_type": "execute_result"
    }
   ],
   "source": [
    "# relocating the \"age_stages\" column to be in the 6th column:\n",
    "df.insert(6,'age_stages',df.pop('age_stages'))\n",
    "df.head(1)"
   ]
  },
  {
   "cell_type": "markdown",
   "id": "84758000-1986-44f4-a1be-48cb16925be5",
   "metadata": {},
   "source": [
    "<a id='describe'></a>\n",
    "### d) Exploring the charcteristics of _\"date_diff\"_,_\"age_stages\"_, and _\"age\"_  :\n"
   ]
  },
  {
   "cell_type": "markdown",
   "id": "29a2674e-b55c-4f55-82a0-dfbfc4f43674",
   "metadata": {},
   "source": [
    "#### 1. ***date_diff:*** \n",
    "- Applying descriptive statistics for further investigation.\n",
    "- ***Note:***\n",
    "     - The **sched_day** should occur before the **appoint_day** (_i.e.,_ appoint_day > sched_day)\n",
    "     \n",
    "\n"
   ]
  },
  {
   "cell_type": "code",
   "execution_count": 757,
   "id": "d06cd4a4-518b-46e4-baa1-2cf665ea5629",
   "metadata": {},
   "outputs": [
    {
     "data": {
      "text/html": [
       "<div>\n",
       "<style scoped>\n",
       "    .dataframe tbody tr th:only-of-type {\n",
       "        vertical-align: middle;\n",
       "    }\n",
       "\n",
       "    .dataframe tbody tr th {\n",
       "        vertical-align: top;\n",
       "    }\n",
       "\n",
       "    .dataframe thead th {\n",
       "        text-align: right;\n",
       "    }\n",
       "</style>\n",
       "<table border=\"1\" class=\"dataframe\">\n",
       "  <thead>\n",
       "    <tr style=\"text-align: right;\">\n",
       "      <th></th>\n",
       "      <th>stat</th>\n",
       "      <th>amount</th>\n",
       "    </tr>\n",
       "  </thead>\n",
       "  <tbody>\n",
       "    <tr>\n",
       "      <th>0</th>\n",
       "      <td>count</td>\n",
       "      <td>110527.0</td>\n",
       "    </tr>\n",
       "    <tr>\n",
       "      <th>1</th>\n",
       "      <td>mean</td>\n",
       "      <td>10.0</td>\n",
       "    </tr>\n",
       "    <tr>\n",
       "      <th>2</th>\n",
       "      <td>std</td>\n",
       "      <td>15.0</td>\n",
       "    </tr>\n",
       "    <tr>\n",
       "      <th>3</th>\n",
       "      <td>min</td>\n",
       "      <td>-6.0</td>\n",
       "    </tr>\n",
       "    <tr>\n",
       "      <th>4</th>\n",
       "      <td>25%</td>\n",
       "      <td>0.0</td>\n",
       "    </tr>\n",
       "    <tr>\n",
       "      <th>5</th>\n",
       "      <td>50%</td>\n",
       "      <td>4.0</td>\n",
       "    </tr>\n",
       "    <tr>\n",
       "      <th>6</th>\n",
       "      <td>75%</td>\n",
       "      <td>15.0</td>\n",
       "    </tr>\n",
       "    <tr>\n",
       "      <th>7</th>\n",
       "      <td>max</td>\n",
       "      <td>179.0</td>\n",
       "    </tr>\n",
       "  </tbody>\n",
       "</table>\n",
       "</div>"
      ],
      "text/plain": [
       "    stat    amount\n",
       "0  count  110527.0\n",
       "1   mean      10.0\n",
       "2    std      15.0\n",
       "3    min      -6.0\n",
       "4    25%       0.0\n",
       "5    50%       4.0\n",
       "6    75%      15.0\n",
       "7    max     179.0"
      ]
     },
     "execution_count": 757,
     "metadata": {},
     "output_type": "execute_result"
    }
   ],
   "source": [
    "# Exploring date_diff column:\n",
    "df.date_diff.describe().reset_index().rename(columns={'index':'stat','date_diff': 'amount'}).round()"
   ]
  },
  {
   "cell_type": "code",
   "execution_count": 758,
   "id": "d46e85bd-d676-4910-a8c5-bf4df41973de",
   "metadata": {},
   "outputs": [
    {
     "data": {
      "text/html": [
       "<div>\n",
       "<style scoped>\n",
       "    .dataframe tbody tr th:only-of-type {\n",
       "        vertical-align: middle;\n",
       "    }\n",
       "\n",
       "    .dataframe tbody tr th {\n",
       "        vertical-align: top;\n",
       "    }\n",
       "\n",
       "    .dataframe thead th {\n",
       "        text-align: right;\n",
       "    }\n",
       "</style>\n",
       "<table border=\"1\" class=\"dataframe\">\n",
       "  <thead>\n",
       "    <tr style=\"text-align: right;\">\n",
       "      <th></th>\n",
       "      <th>sched_day</th>\n",
       "      <th>appoint_day</th>\n",
       "      <th>date_diff</th>\n",
       "    </tr>\n",
       "  </thead>\n",
       "  <tbody>\n",
       "    <tr>\n",
       "      <th>27033</th>\n",
       "      <td>2016-05-10</td>\n",
       "      <td>2016-05-09</td>\n",
       "      <td>-1</td>\n",
       "    </tr>\n",
       "    <tr>\n",
       "      <th>55226</th>\n",
       "      <td>2016-05-18</td>\n",
       "      <td>2016-05-17</td>\n",
       "      <td>-1</td>\n",
       "    </tr>\n",
       "    <tr>\n",
       "      <th>64175</th>\n",
       "      <td>2016-05-05</td>\n",
       "      <td>2016-05-04</td>\n",
       "      <td>-1</td>\n",
       "    </tr>\n",
       "    <tr>\n",
       "      <th>71533</th>\n",
       "      <td>2016-05-11</td>\n",
       "      <td>2016-05-05</td>\n",
       "      <td>-6</td>\n",
       "    </tr>\n",
       "    <tr>\n",
       "      <th>72362</th>\n",
       "      <td>2016-05-04</td>\n",
       "      <td>2016-05-03</td>\n",
       "      <td>-1</td>\n",
       "    </tr>\n",
       "  </tbody>\n",
       "</table>\n",
       "</div>"
      ],
      "text/plain": [
       "        sched_day appoint_day  date_diff\n",
       "27033  2016-05-10  2016-05-09         -1\n",
       "55226  2016-05-18  2016-05-17         -1\n",
       "64175  2016-05-05  2016-05-04         -1\n",
       "71533  2016-05-11  2016-05-05         -6\n",
       "72362  2016-05-04  2016-05-03         -1"
      ]
     },
     "execution_count": 758,
     "metadata": {},
     "output_type": "execute_result"
    }
   ],
   "source": [
    "# Determining the dates where the schedule dates were after the appointment dates:\n",
    "df.query('date_diff<0').iloc[:,3:6]"
   ]
  },
  {
   "cell_type": "code",
   "execution_count": 759,
   "id": "cdb6e327-00e3-4b72-b20e-8cb4762bc479",
   "metadata": {},
   "outputs": [
    {
     "data": {
      "text/html": [
       "<div>\n",
       "<style scoped>\n",
       "    .dataframe tbody tr th:only-of-type {\n",
       "        vertical-align: middle;\n",
       "    }\n",
       "\n",
       "    .dataframe tbody tr th {\n",
       "        vertical-align: top;\n",
       "    }\n",
       "\n",
       "    .dataframe thead th {\n",
       "        text-align: right;\n",
       "    }\n",
       "</style>\n",
       "<table border=\"1\" class=\"dataframe\">\n",
       "  <thead>\n",
       "    <tr style=\"text-align: right;\">\n",
       "      <th></th>\n",
       "      <th>stat</th>\n",
       "      <th>amount</th>\n",
       "    </tr>\n",
       "  </thead>\n",
       "  <tbody>\n",
       "    <tr>\n",
       "      <th>0</th>\n",
       "      <td>count</td>\n",
       "      <td>110527.0</td>\n",
       "    </tr>\n",
       "    <tr>\n",
       "      <th>1</th>\n",
       "      <td>mean</td>\n",
       "      <td>10.0</td>\n",
       "    </tr>\n",
       "    <tr>\n",
       "      <th>2</th>\n",
       "      <td>std</td>\n",
       "      <td>15.0</td>\n",
       "    </tr>\n",
       "    <tr>\n",
       "      <th>3</th>\n",
       "      <td>min</td>\n",
       "      <td>0.0</td>\n",
       "    </tr>\n",
       "    <tr>\n",
       "      <th>4</th>\n",
       "      <td>25%</td>\n",
       "      <td>0.0</td>\n",
       "    </tr>\n",
       "    <tr>\n",
       "      <th>5</th>\n",
       "      <td>50%</td>\n",
       "      <td>4.0</td>\n",
       "    </tr>\n",
       "    <tr>\n",
       "      <th>6</th>\n",
       "      <td>75%</td>\n",
       "      <td>15.0</td>\n",
       "    </tr>\n",
       "    <tr>\n",
       "      <th>7</th>\n",
       "      <td>max</td>\n",
       "      <td>179.0</td>\n",
       "    </tr>\n",
       "  </tbody>\n",
       "</table>\n",
       "</div>"
      ],
      "text/plain": [
       "    stat    amount\n",
       "0  count  110527.0\n",
       "1   mean      10.0\n",
       "2    std      15.0\n",
       "3    min       0.0\n",
       "4    25%       0.0\n",
       "5    50%       4.0\n",
       "6    75%      15.0\n",
       "7    max     179.0"
      ]
     },
     "execution_count": 759,
     "metadata": {},
     "output_type": "execute_result"
    }
   ],
   "source": [
    "# Adjusting those appointment dates to be the same as the schedule dates:\n",
    "df['appoint_day']=np.where(df['appoint_day']<df['sched_day'],df['sched_day'],df['appoint_day'])\n",
    "df['date_diff']= (df['appoint_day']- df['sched_day']).dt.days\n",
    "time_stats=df.date_diff.describe().reset_index().rename(columns={'index':'stat','date_diff': 'amount'}).round()\n",
    "time_stats"
   ]
  },
  {
   "cell_type": "code",
   "execution_count": 760,
   "id": "182afef4-e034-4c45-b287-249ff549f35a",
   "metadata": {},
   "outputs": [
    {
     "name": "stdout",
     "output_type": "stream",
     "text": [
      "The most frequent date diff is 0 day(s)\n"
     ]
    }
   ],
   "source": [
    "print(f'The most frequent date diff is {df.date_diff.value_counts().idxmax()} day(s)')"
   ]
  },
  {
   "cell_type": "markdown",
   "id": "470eb224-231a-484f-9270-a5d70e5cc62f",
   "metadata": {},
   "source": [
    "#### 2. ***age_stages:*** \n",
    "- Checking if a patient’s ID is repeated across two categories instead of just one.\n",
    "- ***Note:***\n",
    "  - Sometimes, due to the time span of the dataset, a patient’s age may shift between categories. For instance, if a patient was initially recorded as 12 years old (categorized as a child), and later, after a considerable time gap, is recorded as 13 (categorized as a teenager).\n"
   ]
  },
  {
   "cell_type": "code",
   "execution_count": 762,
   "id": "d06f00d7-18f5-4087-a6a5-5c5cb4742438",
   "metadata": {},
   "outputs": [
    {
     "name": "stdout",
     "output_type": "stream",
     "text": [
      "The Total Number of Patients is 62299 Patients\n"
     ]
    }
   ],
   "source": [
    "# The number of patients (Unique):\n",
    "patient_count=df.patient_id.nunique()\n",
    "print(f'The Total Number of Patients is {patient_count} Patients')"
   ]
  },
  {
   "cell_type": "code",
   "execution_count": 763,
   "id": "21b3ea4b-6d0b-4ac4-b9fd-6d1cabfc1b10",
   "metadata": {},
   "outputs": [
    {
     "name": "stdout",
     "output_type": "stream",
     "text": [
      "The Total Number of Patients (when categorized) is 62352 Patients\n"
     ]
    }
   ],
   "source": [
    "# The number of patients when classified into categories (Unique):\n",
    "patient_count_category=df.groupby('age_stages').patient_id.nunique().sum()\n",
    "print(f'The Total Number of Patients (when categorized) is {patient_count_category} Patients')"
   ]
  },
  {
   "cell_type": "code",
   "execution_count": 764,
   "id": "9f8be86e-e7fa-46eb-b340-ca10a2ecab77",
   "metadata": {},
   "outputs": [
    {
     "name": "stdout",
     "output_type": "stream",
     "text": [
      "The Difference = 53 Patients\n"
     ]
    }
   ],
   "source": [
    "# The number of Patients that are repeated in 2 categories:\n",
    "print(f'The Difference = {patient_count_category - patient_count} Patients')"
   ]
  },
  {
   "cell_type": "code",
   "execution_count": 765,
   "id": "e20c71fb-def2-4786-9e4b-adc129805f06",
   "metadata": {},
   "outputs": [
    {
     "name": "stdout",
     "output_type": "stream",
     "text": [
      "repeated patients number:\n",
      "\n",
      " -Child & Teenage = 12 Patients\n",
      " -Teenage & Adult = 16 Patients\n",
      " - Adult & Middle Aged = 13 Patients \n",
      " - Middle_aged & Elderly = 12 Patients\n"
     ]
    }
   ],
   "source": [
    "# Determining the number of patients that are recorded in two categories: \n",
    "c_patient = df.query('age_stages == \"child\"').patient_id.unique() \n",
    "t_patient= df.query('age_stages==\"teenage\"').patient_id.unique()\n",
    "a_patient = df.query('age_stages == \"adult\"').patient_id.unique()  \n",
    "m_patient= df.query('age_stages==\"middle_aged\"').patient_id.unique()\n",
    "e_patient = df.query('age_stages == \"elderly\"').patient_id.unique()  \n",
    "\n",
    "repeated_1 = set(c_patient).intersection(t_patient)\n",
    "repeated_2 = set(t_patient).intersection(a_patient)\n",
    "repeated_3 = set(a_patient).intersection(m_patient)\n",
    "repeated_4 = set(m_patient).intersection(e_patient)\n",
    "\n",
    "print(f'''repeated patients number:\\n\\n -Child & Teenage = {len(repeated_1)} Patients\\n -Teenage & Adult = {len(repeated_2)} Patients\n",
    " - Adult & Middle Aged = {len(repeated_3)} Patients \\n - Middle_aged & Elderly = {len(repeated_4)} Patients''')"
   ]
  },
  {
   "cell_type": "code",
   "execution_count": 766,
   "id": "d0ca36ec-e7c4-49f6-8214-73180ebb6a08",
   "metadata": {},
   "outputs": [],
   "source": [
    "# Replacing the category of repeated patients to be the same as recorded at the begining:\n",
    "# (Sine the change in age was 1 year)\n",
    "df.loc[df['patient_id'].isin(repeated_1), 'age_stages'] = 'child'\n",
    "df.loc[df['patient_id'].isin(repeated_2), 'age_stages'] = 'teenage'\n",
    "df.loc[df['patient_id'].isin(repeated_3), 'age_stages'] = 'adult'\n",
    "df.loc[df['patient_id'].isin(repeated_4), 'age_stages'] = 'middle_aged'"
   ]
  },
  {
   "cell_type": "code",
   "execution_count": 767,
   "id": "c06f5f27-cd4e-4454-9491-8b21a7f6000a",
   "metadata": {},
   "outputs": [
    {
     "name": "stdout",
     "output_type": "stream",
     "text": [
      "The Total Number of Patients (when categorized) is 62299 Patients\n"
     ]
    }
   ],
   "source": [
    "# The amended number of patients when classified into categories (Unique):\n",
    "patient_count_category=df.groupby('age_stages').patient_id.nunique().sum()\n",
    "print(f'The Total Number of Patients (when categorized) is {patient_count_category} Patients')"
   ]
  },
  {
   "cell_type": "markdown",
   "id": "5dc59d3e-ddb7-4f1e-991a-eaf9f1f63f97",
   "metadata": {},
   "source": [
    "#### 3. ***age:*** \n",
    "- Investigating the cause of negative values that appeared in the minimum value during descriptive statistics.\n",
    "- ***Note:***\n",
    "  -   Since the data type for age is an integer, ages less than one year ***(in months)*** are recorded as **0** years"
   ]
  },
  {
   "cell_type": "code",
   "execution_count": 769,
   "id": "b475ee8e-cf45-42e1-b08e-cc09a05ab1ba",
   "metadata": {},
   "outputs": [
    {
     "data": {
      "text/plain": [
       "count    110527.000000\n",
       "mean         37.088874\n",
       "std          23.110205\n",
       "min          -1.000000\n",
       "25%          18.000000\n",
       "50%          37.000000\n",
       "75%          55.000000\n",
       "max         115.000000\n",
       "Name: age, dtype: float64"
      ]
     },
     "execution_count": 769,
     "metadata": {},
     "output_type": "execute_result"
    }
   ],
   "source": [
    "# Descriptive statistics for age:\n",
    "df.age.describe()"
   ]
  },
  {
   "cell_type": "code",
   "execution_count": 770,
   "id": "f4ad4344-e69b-4086-8574-5a71751fc41f",
   "metadata": {},
   "outputs": [
    {
     "data": {
      "text/html": [
       "<div>\n",
       "<style scoped>\n",
       "    .dataframe tbody tr th:only-of-type {\n",
       "        vertical-align: middle;\n",
       "    }\n",
       "\n",
       "    .dataframe tbody tr th {\n",
       "        vertical-align: top;\n",
       "    }\n",
       "\n",
       "    .dataframe thead th {\n",
       "        text-align: right;\n",
       "    }\n",
       "</style>\n",
       "<table border=\"1\" class=\"dataframe\">\n",
       "  <thead>\n",
       "    <tr style=\"text-align: right;\">\n",
       "      <th></th>\n",
       "      <th>patient_id</th>\n",
       "      <th>appoint_id</th>\n",
       "      <th>gender</th>\n",
       "      <th>sched_day</th>\n",
       "      <th>appoint_day</th>\n",
       "      <th>date_diff</th>\n",
       "      <th>age_stages</th>\n",
       "      <th>age</th>\n",
       "      <th>neighbourhood</th>\n",
       "      <th>scholarship</th>\n",
       "      <th>htn</th>\n",
       "      <th>dm</th>\n",
       "      <th>aud</th>\n",
       "      <th>hcp</th>\n",
       "      <th>sms_received</th>\n",
       "      <th>no_show</th>\n",
       "    </tr>\n",
       "  </thead>\n",
       "  <tbody>\n",
       "    <tr>\n",
       "      <th>99832</th>\n",
       "      <td>465943158731293</td>\n",
       "      <td>5775010</td>\n",
       "      <td>F</td>\n",
       "      <td>2016-06-06</td>\n",
       "      <td>2016-06-06</td>\n",
       "      <td>0</td>\n",
       "      <td>child</td>\n",
       "      <td>-1</td>\n",
       "      <td>ROMÃO</td>\n",
       "      <td>0</td>\n",
       "      <td>0</td>\n",
       "      <td>0</td>\n",
       "      <td>0</td>\n",
       "      <td>0</td>\n",
       "      <td>0</td>\n",
       "      <td>No</td>\n",
       "    </tr>\n",
       "  </tbody>\n",
       "</table>\n",
       "</div>"
      ],
      "text/plain": [
       "            patient_id  appoint_id gender   sched_day appoint_day  date_diff  \\\n",
       "99832  465943158731293     5775010      F  2016-06-06  2016-06-06          0   \n",
       "\n",
       "      age_stages  age neighbourhood  scholarship  htn  dm  aud  hcp  \\\n",
       "99832      child   -1         ROMÃO            0    0   0    0    0   \n",
       "\n",
       "       sms_received no_show  \n",
       "99832             0      No  "
      ]
     },
     "execution_count": 770,
     "metadata": {},
     "output_type": "execute_result"
    }
   ],
   "source": [
    "df.query(\"age < 0\")"
   ]
  },
  {
   "cell_type": "code",
   "execution_count": 771,
   "id": "1a1489c2-7de4-4119-b9e7-35f63d969abf",
   "metadata": {},
   "outputs": [],
   "source": [
    "# replacing the value of -1 years with 1:\n",
    "df.age= np.where(df.age< 0,1,df.age)"
   ]
  },
  {
   "cell_type": "code",
   "execution_count": 772,
   "id": "aa5a2cd2-aa8a-4346-9137-543e65618f10",
   "metadata": {},
   "outputs": [
    {
     "data": {
      "text/plain": [
       "count    110527.000000\n",
       "mean         37.088892\n",
       "std          23.110176\n",
       "min           0.000000\n",
       "25%          18.000000\n",
       "50%          37.000000\n",
       "75%          55.000000\n",
       "max         115.000000\n",
       "Name: age, dtype: float64"
      ]
     },
     "execution_count": 772,
     "metadata": {},
     "output_type": "execute_result"
    }
   ],
   "source": [
    "df.age.describe()"
   ]
  },
  {
   "cell_type": "code",
   "execution_count": 773,
   "id": "513bbc25-32c9-41c8-8d36-c6c52f4c0bce",
   "metadata": {},
   "outputs": [
    {
     "name": "stdout",
     "output_type": "stream",
     "text": [
      "<class 'pandas.core.frame.DataFrame'>\n",
      "RangeIndex: 110527 entries, 0 to 110526\n",
      "Data columns (total 16 columns):\n",
      " #   Column         Non-Null Count   Dtype \n",
      "---  ------         --------------   ----- \n",
      " 0   patient_id     110527 non-null  int64 \n",
      " 1   appoint_id     110527 non-null  int64 \n",
      " 2   gender         110527 non-null  object\n",
      " 3   sched_day      110527 non-null  object\n",
      " 4   appoint_day    110527 non-null  object\n",
      " 5   date_diff      110527 non-null  int64 \n",
      " 6   age_stages     110527 non-null  object\n",
      " 7   age            110527 non-null  int64 \n",
      " 8   neighbourhood  110527 non-null  object\n",
      " 9   scholarship    110527 non-null  int64 \n",
      " 10  htn            110527 non-null  int64 \n",
      " 11  dm             110527 non-null  int64 \n",
      " 12  aud            110527 non-null  int64 \n",
      " 13  hcp            110527 non-null  int64 \n",
      " 14  sms_received   110527 non-null  int64 \n",
      " 15  no_show        110527 non-null  object\n",
      "dtypes: int64(10), object(6)\n",
      "memory usage: 13.5+ MB\n"
     ]
    }
   ],
   "source": [
    "# Exploring the charcteristics of the amended dataframe:\n",
    "df.info()"
   ]
  },
  {
   "cell_type": "code",
   "execution_count": null,
   "id": "a13727b1-4498-4900-b6aa-e38cfcc0d7f1",
   "metadata": {},
   "outputs": [],
   "source": []
  },
  {
   "cell_type": "markdown",
   "id": "79b48dda-267f-479b-9e17-8e55bf373564",
   "metadata": {},
   "source": [
    "<a id='explore'></a>\n",
    "## 2 - Data Exploring:"
   ]
  },
  {
   "cell_type": "code",
   "execution_count": 775,
   "id": "9c23828c-950a-41f7-9214-191f506e6b68",
   "metadata": {},
   "outputs": [
    {
     "data": {
      "text/html": [
       "<div>\n",
       "<style scoped>\n",
       "    .dataframe tbody tr th:only-of-type {\n",
       "        vertical-align: middle;\n",
       "    }\n",
       "\n",
       "    .dataframe tbody tr th {\n",
       "        vertical-align: top;\n",
       "    }\n",
       "\n",
       "    .dataframe thead th {\n",
       "        text-align: right;\n",
       "    }\n",
       "</style>\n",
       "<table border=\"1\" class=\"dataframe\">\n",
       "  <thead>\n",
       "    <tr style=\"text-align: right;\">\n",
       "      <th></th>\n",
       "      <th>patient_id</th>\n",
       "      <th>frequency</th>\n",
       "    </tr>\n",
       "  </thead>\n",
       "  <tbody>\n",
       "    <tr>\n",
       "      <th>0</th>\n",
       "      <td>822145925426128</td>\n",
       "      <td>88</td>\n",
       "    </tr>\n",
       "    <tr>\n",
       "      <th>1</th>\n",
       "      <td>99637671331</td>\n",
       "      <td>84</td>\n",
       "    </tr>\n",
       "    <tr>\n",
       "      <th>2</th>\n",
       "      <td>26886125921145</td>\n",
       "      <td>70</td>\n",
       "    </tr>\n",
       "    <tr>\n",
       "      <th>3</th>\n",
       "      <td>33534783483176</td>\n",
       "      <td>65</td>\n",
       "    </tr>\n",
       "    <tr>\n",
       "      <th>4</th>\n",
       "      <td>6264198675331</td>\n",
       "      <td>62</td>\n",
       "    </tr>\n",
       "    <tr>\n",
       "      <th>...</th>\n",
       "      <td>...</td>\n",
       "      <td>...</td>\n",
       "    </tr>\n",
       "    <tr>\n",
       "      <th>62294</th>\n",
       "      <td>862263621811</td>\n",
       "      <td>1</td>\n",
       "    </tr>\n",
       "    <tr>\n",
       "      <th>62295</th>\n",
       "      <td>9267587227475</td>\n",
       "      <td>1</td>\n",
       "    </tr>\n",
       "    <tr>\n",
       "      <th>62296</th>\n",
       "      <td>5764355598913</td>\n",
       "      <td>1</td>\n",
       "    </tr>\n",
       "    <tr>\n",
       "      <th>62297</th>\n",
       "      <td>5712491287569</td>\n",
       "      <td>1</td>\n",
       "    </tr>\n",
       "    <tr>\n",
       "      <th>62298</th>\n",
       "      <td>15576631729893</td>\n",
       "      <td>1</td>\n",
       "    </tr>\n",
       "  </tbody>\n",
       "</table>\n",
       "<p>62299 rows × 2 columns</p>\n",
       "</div>"
      ],
      "text/plain": [
       "            patient_id  frequency\n",
       "0      822145925426128         88\n",
       "1          99637671331         84\n",
       "2       26886125921145         70\n",
       "3       33534783483176         65\n",
       "4        6264198675331         62\n",
       "...                ...        ...\n",
       "62294     862263621811          1\n",
       "62295    9267587227475          1\n",
       "62296    5764355598913          1\n",
       "62297    5712491287569          1\n",
       "62298   15576631729893          1\n",
       "\n",
       "[62299 rows x 2 columns]"
      ]
     },
     "execution_count": 775,
     "metadata": {},
     "output_type": "execute_result"
    }
   ],
   "source": [
    "# Exploring patient_id Column:\n",
    "patient_frequency=df.patient_id.value_counts().reset_index()\n",
    "patient_frequency.rename(columns={'index':'patient_id','patient_id':'frequency'})"
   ]
  },
  {
   "cell_type": "code",
   "execution_count": 776,
   "id": "679d3ffc-4961-4b3d-b211-99d6513c1064",
   "metadata": {},
   "outputs": [
    {
     "name": "stdout",
     "output_type": "stream",
     "text": [
      "The most frequent patient_id is 822145925426128 with a number of 88 appointments.\n",
      "\n",
      "\n"
     ]
    },
    {
     "data": {
      "text/html": [
       "<style type=\"text/css\">\n",
       "</style>\n",
       "<table id=\"T_82556\">\n",
       "  <thead>\n",
       "    <tr>\n",
       "      <th id=\"T_82556_level0_col0\" class=\"col_heading level0 col0\" >patient_id</th>\n",
       "      <th id=\"T_82556_level0_col1\" class=\"col_heading level0 col1\" >gender</th>\n",
       "      <th id=\"T_82556_level0_col2\" class=\"col_heading level0 col2\" >age_stages</th>\n",
       "      <th id=\"T_82556_level0_col3\" class=\"col_heading level0 col3\" >age</th>\n",
       "      <th id=\"T_82556_level0_col4\" class=\"col_heading level0 col4\" >neighbourhood</th>\n",
       "      <th id=\"T_82556_level0_col5\" class=\"col_heading level0 col5\" >scholarship</th>\n",
       "      <th id=\"T_82556_level0_col6\" class=\"col_heading level0 col6\" >htn</th>\n",
       "      <th id=\"T_82556_level0_col7\" class=\"col_heading level0 col7\" >dm</th>\n",
       "      <th id=\"T_82556_level0_col8\" class=\"col_heading level0 col8\" >aud</th>\n",
       "      <th id=\"T_82556_level0_col9\" class=\"col_heading level0 col9\" >hcp</th>\n",
       "    </tr>\n",
       "  </thead>\n",
       "  <tbody>\n",
       "    <tr>\n",
       "      <td id=\"T_82556_row0_col0\" class=\"data row0 col0\" >822145925426128</td>\n",
       "      <td id=\"T_82556_row0_col1\" class=\"data row0 col1\" >M</td>\n",
       "      <td id=\"T_82556_row0_col2\" class=\"data row0 col2\" >adult</td>\n",
       "      <td id=\"T_82556_row0_col3\" class=\"data row0 col3\" >38</td>\n",
       "      <td id=\"T_82556_row0_col4\" class=\"data row0 col4\" >REDENÇÃO</td>\n",
       "      <td id=\"T_82556_row0_col5\" class=\"data row0 col5\" >0</td>\n",
       "      <td id=\"T_82556_row0_col6\" class=\"data row0 col6\" >0</td>\n",
       "      <td id=\"T_82556_row0_col7\" class=\"data row0 col7\" >0</td>\n",
       "      <td id=\"T_82556_row0_col8\" class=\"data row0 col8\" >0</td>\n",
       "      <td id=\"T_82556_row0_col9\" class=\"data row0 col9\" >0</td>\n",
       "    </tr>\n",
       "  </tbody>\n",
       "</table>\n"
      ],
      "text/plain": [
       "<pandas.io.formats.style.Styler at 0x2029b861a10>"
      ]
     },
     "execution_count": 776,
     "metadata": {},
     "output_type": "execute_result"
    }
   ],
   "source": [
    "# Exploring the most frequent patient:\n",
    "print(f'The most frequent patient_id is {patient_frequency.iloc[0,0]} with a number of {patient_frequency.iloc[0,1]} appointments.\\n\\n')\n",
    "df.query('patient_id== 822145925426128').head(1).iloc[:,[0,2,6,7,8,9,10,11,12,13]].style.hide()"
   ]
  },
  {
   "cell_type": "code",
   "execution_count": 777,
   "id": "acaf4311-75aa-4176-a0a5-62bfb0d74611",
   "metadata": {},
   "outputs": [
    {
     "name": "stdout",
     "output_type": "stream",
     "text": [
      "For patient No. 822145925426128:\n",
      "\n",
      "1- Counting the number of frequency of the difference between schedule date & appointment date:\n",
      " \n"
     ]
    },
    {
     "data": {
      "text/html": [
       "<div>\n",
       "<style scoped>\n",
       "    .dataframe tbody tr th:only-of-type {\n",
       "        vertical-align: middle;\n",
       "    }\n",
       "\n",
       "    .dataframe tbody tr th {\n",
       "        vertical-align: top;\n",
       "    }\n",
       "\n",
       "    .dataframe thead th {\n",
       "        text-align: right;\n",
       "    }\n",
       "</style>\n",
       "<table border=\"1\" class=\"dataframe\">\n",
       "  <thead>\n",
       "    <tr style=\"text-align: right;\">\n",
       "      <th></th>\n",
       "      <th>date_diff</th>\n",
       "      <th>count</th>\n",
       "    </tr>\n",
       "  </thead>\n",
       "  <tbody>\n",
       "    <tr>\n",
       "      <th>0</th>\n",
       "      <td>0</td>\n",
       "      <td>80</td>\n",
       "    </tr>\n",
       "    <tr>\n",
       "      <th>1</th>\n",
       "      <td>3</td>\n",
       "      <td>2</td>\n",
       "    </tr>\n",
       "    <tr>\n",
       "      <th>2</th>\n",
       "      <td>7</td>\n",
       "      <td>2</td>\n",
       "    </tr>\n",
       "    <tr>\n",
       "      <th>3</th>\n",
       "      <td>4</td>\n",
       "      <td>1</td>\n",
       "    </tr>\n",
       "    <tr>\n",
       "      <th>4</th>\n",
       "      <td>14</td>\n",
       "      <td>1</td>\n",
       "    </tr>\n",
       "    <tr>\n",
       "      <th>5</th>\n",
       "      <td>20</td>\n",
       "      <td>1</td>\n",
       "    </tr>\n",
       "    <tr>\n",
       "      <th>6</th>\n",
       "      <td>10</td>\n",
       "      <td>1</td>\n",
       "    </tr>\n",
       "  </tbody>\n",
       "</table>\n",
       "</div>"
      ],
      "text/plain": [
       "   date_diff  count\n",
       "0          0     80\n",
       "1          3      2\n",
       "2          7      2\n",
       "3          4      1\n",
       "4         14      1\n",
       "5         20      1\n",
       "6         10      1"
      ]
     },
     "execution_count": 777,
     "metadata": {},
     "output_type": "execute_result"
    }
   ],
   "source": [
    "print(f'For patient No. {patient_frequency.iloc[0,0]}:\\n\\n1- Counting the number of frequency of the difference between schedule date & appointment date:\\n ')\n",
    "df.query('patient_id== 822145925426128').date_diff.value_counts().reset_index().rename(columns={'index':'date_diff','date_diff':'count'})"
   ]
  },
  {
   "cell_type": "code",
   "execution_count": 778,
   "id": "0de67d38-d6c5-413d-a206-181f524aa0cb",
   "metadata": {},
   "outputs": [
    {
     "name": "stdout",
     "output_type": "stream",
     "text": [
      "2- The messages received were for  3 appointment\n",
      "3- The patient didn't come to the appointment for 1 time(s)\n"
     ]
    },
    {
     "data": {
      "text/html": [
       "<div>\n",
       "<style scoped>\n",
       "    .dataframe tbody tr th:only-of-type {\n",
       "        vertical-align: middle;\n",
       "    }\n",
       "\n",
       "    .dataframe tbody tr th {\n",
       "        vertical-align: top;\n",
       "    }\n",
       "\n",
       "    .dataframe thead th {\n",
       "        text-align: right;\n",
       "    }\n",
       "</style>\n",
       "<table border=\"1\" class=\"dataframe\">\n",
       "  <thead>\n",
       "    <tr style=\"text-align: right;\">\n",
       "      <th></th>\n",
       "      <th>patient_id</th>\n",
       "      <th>date_diff</th>\n",
       "      <th>sms_received</th>\n",
       "      <th>no_show</th>\n",
       "    </tr>\n",
       "  </thead>\n",
       "  <tbody>\n",
       "    <tr>\n",
       "      <th>9290</th>\n",
       "      <td>822145925426128</td>\n",
       "      <td>4</td>\n",
       "      <td>1</td>\n",
       "      <td>Yes</td>\n",
       "    </tr>\n",
       "    <tr>\n",
       "      <th>109185</th>\n",
       "      <td>822145925426128</td>\n",
       "      <td>20</td>\n",
       "      <td>1</td>\n",
       "      <td>No</td>\n",
       "    </tr>\n",
       "    <tr>\n",
       "      <th>109211</th>\n",
       "      <td>822145925426128</td>\n",
       "      <td>10</td>\n",
       "      <td>1</td>\n",
       "      <td>No</td>\n",
       "    </tr>\n",
       "  </tbody>\n",
       "</table>\n",
       "</div>"
      ],
      "text/plain": [
       "             patient_id  date_diff  sms_received no_show\n",
       "9290    822145925426128          4             1     Yes\n",
       "109185  822145925426128         20             1      No\n",
       "109211  822145925426128         10             1      No"
      ]
     },
     "execution_count": 778,
     "metadata": {},
     "output_type": "execute_result"
    }
   ],
   "source": [
    "print('2- The messages received were for  {} appointment'.format(df.query('patient_id == 822145925426128').sms_received.value_counts().reset_index().iloc[1,1]))\n",
    "print(\"3- The patient didn't come to the appointment for {} time(s)\".format(df.query('patient_id == 822145925426128').no_show.value_counts().reset_index().iloc[1,1]))\n",
    "df.query('patient_id== 822145925426128').query('sms_received == 1').iloc[:,[0,5,14,15]]"
   ]
  },
  {
   "cell_type": "code",
   "execution_count": 779,
   "id": "117d8636-1398-49ea-93a8-516b2065650f",
   "metadata": {},
   "outputs": [
    {
     "data": {
      "text/html": [
       "<style type=\"text/css\">\n",
       "</style>\n",
       "<table id=\"T_20e98\">\n",
       "  <thead>\n",
       "    <tr>\n",
       "      <th id=\"T_20e98_level0_col0\" class=\"col_heading level0 col0\" >patient_id</th>\n",
       "      <th id=\"T_20e98_level0_col1\" class=\"col_heading level0 col1\" >gender</th>\n",
       "      <th id=\"T_20e98_level0_col2\" class=\"col_heading level0 col2\" >age_stages</th>\n",
       "      <th id=\"T_20e98_level0_col3\" class=\"col_heading level0 col3\" >age</th>\n",
       "      <th id=\"T_20e98_level0_col4\" class=\"col_heading level0 col4\" >neighbourhood</th>\n",
       "      <th id=\"T_20e98_level0_col5\" class=\"col_heading level0 col5\" >scholarship</th>\n",
       "      <th id=\"T_20e98_level0_col6\" class=\"col_heading level0 col6\" >htn</th>\n",
       "      <th id=\"T_20e98_level0_col7\" class=\"col_heading level0 col7\" >dm</th>\n",
       "      <th id=\"T_20e98_level0_col8\" class=\"col_heading level0 col8\" >aud</th>\n",
       "      <th id=\"T_20e98_level0_col9\" class=\"col_heading level0 col9\" >hcp</th>\n",
       "    </tr>\n",
       "  </thead>\n",
       "  <tbody>\n",
       "    <tr>\n",
       "      <td id=\"T_20e98_row0_col0\" class=\"data row0 col0\" >883722538498</td>\n",
       "      <td id=\"T_20e98_row0_col1\" class=\"data row0 col1\" >M</td>\n",
       "      <td id=\"T_20e98_row0_col2\" class=\"data row0 col2\" >child</td>\n",
       "      <td id=\"T_20e98_row0_col3\" class=\"data row0 col3\" >4</td>\n",
       "      <td id=\"T_20e98_row0_col4\" class=\"data row0 col4\" >TABUAZEIRO</td>\n",
       "      <td id=\"T_20e98_row0_col5\" class=\"data row0 col5\" >1</td>\n",
       "      <td id=\"T_20e98_row0_col6\" class=\"data row0 col6\" >0</td>\n",
       "      <td id=\"T_20e98_row0_col7\" class=\"data row0 col7\" >0</td>\n",
       "      <td id=\"T_20e98_row0_col8\" class=\"data row0 col8\" >0</td>\n",
       "      <td id=\"T_20e98_row0_col9\" class=\"data row0 col9\" >0</td>\n",
       "    </tr>\n",
       "    <tr>\n",
       "      <td id=\"T_20e98_row1_col0\" class=\"data row1 col0\" >15562421414494</td>\n",
       "      <td id=\"T_20e98_row1_col1\" class=\"data row1 col1\" >F</td>\n",
       "      <td id=\"T_20e98_row1_col2\" class=\"data row1 col2\" >teenage</td>\n",
       "      <td id=\"T_20e98_row1_col3\" class=\"data row1 col3\" >20</td>\n",
       "      <td id=\"T_20e98_row1_col4\" class=\"data row1 col4\" >TABUAZEIRO</td>\n",
       "      <td id=\"T_20e98_row1_col5\" class=\"data row1 col5\" >0</td>\n",
       "      <td id=\"T_20e98_row1_col6\" class=\"data row1 col6\" >0</td>\n",
       "      <td id=\"T_20e98_row1_col7\" class=\"data row1 col7\" >0</td>\n",
       "      <td id=\"T_20e98_row1_col8\" class=\"data row1 col8\" >0</td>\n",
       "      <td id=\"T_20e98_row1_col9\" class=\"data row1 col9\" >0</td>\n",
       "    </tr>\n",
       "    <tr>\n",
       "      <td id=\"T_20e98_row2_col0\" class=\"data row2 col0\" >99359318231</td>\n",
       "      <td id=\"T_20e98_row2_col1\" class=\"data row2 col1\" >F</td>\n",
       "      <td id=\"T_20e98_row2_col2\" class=\"data row2 col2\" >adult</td>\n",
       "      <td id=\"T_20e98_row2_col3\" class=\"data row2 col3\" >31</td>\n",
       "      <td id=\"T_20e98_row2_col4\" class=\"data row2 col4\" >ANDORINHAS</td>\n",
       "      <td id=\"T_20e98_row2_col5\" class=\"data row2 col5\" >0</td>\n",
       "      <td id=\"T_20e98_row2_col6\" class=\"data row2 col6\" >0</td>\n",
       "      <td id=\"T_20e98_row2_col7\" class=\"data row2 col7\" >0</td>\n",
       "      <td id=\"T_20e98_row2_col8\" class=\"data row2 col8\" >0</td>\n",
       "      <td id=\"T_20e98_row2_col9\" class=\"data row2 col9\" >0</td>\n",
       "    </tr>\n",
       "    <tr>\n",
       "      <td id=\"T_20e98_row3_col0\" class=\"data row3 col0\" >3946162364918</td>\n",
       "      <td id=\"T_20e98_row3_col1\" class=\"data row3 col1\" >M</td>\n",
       "      <td id=\"T_20e98_row3_col2\" class=\"data row3 col2\" >middle_aged</td>\n",
       "      <td id=\"T_20e98_row3_col3\" class=\"data row3 col3\" >58</td>\n",
       "      <td id=\"T_20e98_row3_col4\" class=\"data row3 col4\" >MARIA ORTIZ</td>\n",
       "      <td id=\"T_20e98_row3_col5\" class=\"data row3 col5\" >0</td>\n",
       "      <td id=\"T_20e98_row3_col6\" class=\"data row3 col6\" >0</td>\n",
       "      <td id=\"T_20e98_row3_col7\" class=\"data row3 col7\" >0</td>\n",
       "      <td id=\"T_20e98_row3_col8\" class=\"data row3 col8\" >0</td>\n",
       "      <td id=\"T_20e98_row3_col9\" class=\"data row3 col9\" >0</td>\n",
       "    </tr>\n",
       "    <tr>\n",
       "      <td id=\"T_20e98_row4_col0\" class=\"data row4 col0\" >745882962671369</td>\n",
       "      <td id=\"T_20e98_row4_col1\" class=\"data row4 col1\" >M</td>\n",
       "      <td id=\"T_20e98_row4_col2\" class=\"data row4 col2\" >elderly</td>\n",
       "      <td id=\"T_20e98_row4_col3\" class=\"data row4 col3\" >73</td>\n",
       "      <td id=\"T_20e98_row4_col4\" class=\"data row4 col4\" >REPÚBLICA</td>\n",
       "      <td id=\"T_20e98_row4_col5\" class=\"data row4 col5\" >0</td>\n",
       "      <td id=\"T_20e98_row4_col6\" class=\"data row4 col6\" >1</td>\n",
       "      <td id=\"T_20e98_row4_col7\" class=\"data row4 col7\" >1</td>\n",
       "      <td id=\"T_20e98_row4_col8\" class=\"data row4 col8\" >0</td>\n",
       "      <td id=\"T_20e98_row4_col9\" class=\"data row4 col9\" >0</td>\n",
       "    </tr>\n",
       "  </tbody>\n",
       "</table>\n"
      ],
      "text/plain": [
       "<pandas.io.formats.style.Styler at 0x202aa9db0d0>"
      ]
     },
     "execution_count": 779,
     "metadata": {},
     "output_type": "execute_result"
    }
   ],
   "source": [
    "# Exploring a sample of 5 patients:\n",
    "sample= pd.concat([df.query('age_stages == \"child\"').sample(n=1,random_state=10), df.query('age_stages == \"teenage\"').sample(n=1,random_state=10),\n",
    "          df.query('age_stages == \"adult\"').sample(n=1,random_state=10),df.query('age_stages == \"middle_aged\"').sample(n=1,random_state=10),\n",
    "           df.query('age_stages == \"elderly\"').sample(n=1,random_state=1)])\n",
    "sample.iloc[:,[0,2,6,7,8,9,10,11,12,13]].style.hide()\n"
   ]
  },
  {
   "cell_type": "code",
   "execution_count": 780,
   "id": "0c02475e-a12d-4a55-8097-2590328daab5",
   "metadata": {},
   "outputs": [
    {
     "name": "stdout",
     "output_type": "stream",
     "text": [
      "1- For patient No. 883722538498:\n",
      " - Number of appointments were 1 appointment(s).\n",
      " - The difference between schedule date & appointment date was 34 days.\n",
      " - Received message : 1 message(s) \n",
      " - Did the patient miss the appointment? No .\n"
     ]
    }
   ],
   "source": [
    "print(f'1- For patient No. {sample.iloc[0,0]}:')\n",
    "\n",
    "print(' - Number of appointments were {} appointment(s).'.format(df.query('patient_id==49452463489754').patient_id.value_counts().reset_index().iloc[0,1]))\n",
    "print(' - The difference between schedule date & appointment date was {} days.'.format(df.query('patient_id== 49452463489754').date_diff.reset_index().iloc[0,1]))\n",
    "print(' - Received message : {} message(s) '.format(df.query('patient_id == 49452463489754').sms_received.value_counts().reset_index().iloc[0,1]))\n",
    "print(' - Did the patient miss the appointment? {} .'.format(df.query('patient_id == 49452463489754').no_show.value_counts().reset_index().iloc[0,0]))"
   ]
  },
  {
   "cell_type": "code",
   "execution_count": 781,
   "id": "8b94f724-9ad2-45a7-9d30-2c0b069d4c69",
   "metadata": {},
   "outputs": [
    {
     "name": "stdout",
     "output_type": "stream",
     "text": [
      "2- For patient No. 15562421414494:\n",
      " - Number of appointments were 3 appointment(s).\n"
     ]
    },
    {
     "data": {
      "text/html": [
       "<div>\n",
       "<style scoped>\n",
       "    .dataframe tbody tr th:only-of-type {\n",
       "        vertical-align: middle;\n",
       "    }\n",
       "\n",
       "    .dataframe tbody tr th {\n",
       "        vertical-align: top;\n",
       "    }\n",
       "\n",
       "    .dataframe thead th {\n",
       "        text-align: right;\n",
       "    }\n",
       "</style>\n",
       "<table border=\"1\" class=\"dataframe\">\n",
       "  <thead>\n",
       "    <tr style=\"text-align: right;\">\n",
       "      <th></th>\n",
       "      <th>patient_id</th>\n",
       "      <th>date_diff</th>\n",
       "      <th>sms_received</th>\n",
       "      <th>no_show</th>\n",
       "    </tr>\n",
       "  </thead>\n",
       "  <tbody>\n",
       "    <tr>\n",
       "      <th>32751</th>\n",
       "      <td>9129234747827</td>\n",
       "      <td>0</td>\n",
       "      <td>0</td>\n",
       "      <td>No</td>\n",
       "    </tr>\n",
       "    <tr>\n",
       "      <th>39877</th>\n",
       "      <td>9129234747827</td>\n",
       "      <td>2</td>\n",
       "      <td>0</td>\n",
       "      <td>Yes</td>\n",
       "    </tr>\n",
       "    <tr>\n",
       "      <th>109673</th>\n",
       "      <td>9129234747827</td>\n",
       "      <td>5</td>\n",
       "      <td>0</td>\n",
       "      <td>No</td>\n",
       "    </tr>\n",
       "  </tbody>\n",
       "</table>\n",
       "</div>"
      ],
      "text/plain": [
       "           patient_id  date_diff  sms_received no_show\n",
       "32751   9129234747827          0             0      No\n",
       "39877   9129234747827          2             0     Yes\n",
       "109673  9129234747827          5             0      No"
      ]
     },
     "execution_count": 781,
     "metadata": {},
     "output_type": "execute_result"
    }
   ],
   "source": [
    "print(f'2- For patient No. {sample.iloc[1,0]}:')\n",
    "print(' - Number of appointments were {} appointment(s).'.format(df.query('patient_id==9129234747827').patient_id.value_counts().reset_index().iloc[0,1]))\n",
    "df.query('patient_id== 9129234747827').iloc[:,[0,5,14,15]]"
   ]
  },
  {
   "cell_type": "code",
   "execution_count": 782,
   "id": "2862b66a-142b-41d8-9c88-3020ef6264d2",
   "metadata": {},
   "outputs": [
    {
     "name": "stdout",
     "output_type": "stream",
     "text": [
      "3- For patient No. 99359318231:\n",
      " - Number of appointments were 1 appointment(s).\n"
     ]
    },
    {
     "data": {
      "text/html": [
       "<div>\n",
       "<style scoped>\n",
       "    .dataframe tbody tr th:only-of-type {\n",
       "        vertical-align: middle;\n",
       "    }\n",
       "\n",
       "    .dataframe tbody tr th {\n",
       "        vertical-align: top;\n",
       "    }\n",
       "\n",
       "    .dataframe thead th {\n",
       "        text-align: right;\n",
       "    }\n",
       "</style>\n",
       "<table border=\"1\" class=\"dataframe\">\n",
       "  <thead>\n",
       "    <tr style=\"text-align: right;\">\n",
       "      <th></th>\n",
       "      <th>patient_id</th>\n",
       "      <th>date_diff</th>\n",
       "      <th>sms_received</th>\n",
       "      <th>no_show</th>\n",
       "    </tr>\n",
       "  </thead>\n",
       "  <tbody>\n",
       "    <tr>\n",
       "      <th>88695</th>\n",
       "      <td>178164453445212</td>\n",
       "      <td>19</td>\n",
       "      <td>1</td>\n",
       "      <td>No</td>\n",
       "    </tr>\n",
       "  </tbody>\n",
       "</table>\n",
       "</div>"
      ],
      "text/plain": [
       "            patient_id  date_diff  sms_received no_show\n",
       "88695  178164453445212         19             1      No"
      ]
     },
     "execution_count": 782,
     "metadata": {},
     "output_type": "execute_result"
    }
   ],
   "source": [
    "print(f'3- For patient No. {sample.iloc[2,0]}:')\n",
    "print(' - Number of appointments were {} appointment(s).'.format(df.query('patient_id==178164453445212').patient_id.value_counts().reset_index().iloc[0,1]))\n",
    "df.query('patient_id== 178164453445212').iloc[:,[0,5,14,15]]"
   ]
  },
  {
   "cell_type": "code",
   "execution_count": 783,
   "id": "cc10da89-23e8-4188-88b6-a094fcce5f79",
   "metadata": {},
   "outputs": [
    {
     "name": "stdout",
     "output_type": "stream",
     "text": [
      "4- For patient No. 3946162364918:\n",
      " - Number of appointments were 1 appointment(s).\n"
     ]
    },
    {
     "data": {
      "text/html": [
       "<div>\n",
       "<style scoped>\n",
       "    .dataframe tbody tr th:only-of-type {\n",
       "        vertical-align: middle;\n",
       "    }\n",
       "\n",
       "    .dataframe tbody tr th {\n",
       "        vertical-align: top;\n",
       "    }\n",
       "\n",
       "    .dataframe thead th {\n",
       "        text-align: right;\n",
       "    }\n",
       "</style>\n",
       "<table border=\"1\" class=\"dataframe\">\n",
       "  <thead>\n",
       "    <tr style=\"text-align: right;\">\n",
       "      <th></th>\n",
       "      <th>patient_id</th>\n",
       "      <th>date_diff</th>\n",
       "      <th>sms_received</th>\n",
       "      <th>no_show</th>\n",
       "    </tr>\n",
       "  </thead>\n",
       "  <tbody>\n",
       "    <tr>\n",
       "      <th>23493</th>\n",
       "      <td>8588465219973</td>\n",
       "      <td>0</td>\n",
       "      <td>0</td>\n",
       "      <td>No</td>\n",
       "    </tr>\n",
       "  </tbody>\n",
       "</table>\n",
       "</div>"
      ],
      "text/plain": [
       "          patient_id  date_diff  sms_received no_show\n",
       "23493  8588465219973          0             0      No"
      ]
     },
     "execution_count": 783,
     "metadata": {},
     "output_type": "execute_result"
    }
   ],
   "source": [
    "print(f'4- For patient No. {sample.iloc[3,0]}:')\n",
    "print(' - Number of appointments were {} appointment(s).'.format(df.query('patient_id==8588465219973').patient_id.value_counts().reset_index().iloc[0,1]))\n",
    "df.query('patient_id== 8588465219973').iloc[:,[0,5,14,15]]"
   ]
  },
  {
   "cell_type": "code",
   "execution_count": 784,
   "id": "1e24b5e7-5ff2-4283-961f-fba63b30708d",
   "metadata": {},
   "outputs": [
    {
     "name": "stdout",
     "output_type": "stream",
     "text": [
      "5- For patient No. 745882962671369:\n",
      " - Number of appointments were 1 appointment(s).\n"
     ]
    },
    {
     "data": {
      "text/html": [
       "<div>\n",
       "<style scoped>\n",
       "    .dataframe tbody tr th:only-of-type {\n",
       "        vertical-align: middle;\n",
       "    }\n",
       "\n",
       "    .dataframe tbody tr th {\n",
       "        vertical-align: top;\n",
       "    }\n",
       "\n",
       "    .dataframe thead th {\n",
       "        text-align: right;\n",
       "    }\n",
       "</style>\n",
       "<table border=\"1\" class=\"dataframe\">\n",
       "  <thead>\n",
       "    <tr style=\"text-align: right;\">\n",
       "      <th></th>\n",
       "      <th>patient_id</th>\n",
       "      <th>date_diff</th>\n",
       "      <th>sms_received</th>\n",
       "      <th>no_show</th>\n",
       "    </tr>\n",
       "  </thead>\n",
       "  <tbody>\n",
       "    <tr>\n",
       "      <th>22523</th>\n",
       "      <td>3723378598914</td>\n",
       "      <td>3</td>\n",
       "      <td>1</td>\n",
       "      <td>No</td>\n",
       "    </tr>\n",
       "  </tbody>\n",
       "</table>\n",
       "</div>"
      ],
      "text/plain": [
       "          patient_id  date_diff  sms_received no_show\n",
       "22523  3723378598914          3             1      No"
      ]
     },
     "execution_count": 784,
     "metadata": {},
     "output_type": "execute_result"
    }
   ],
   "source": [
    "print(f'5- For patient No. {sample.iloc[4,0]}:')\n",
    "print(' - Number of appointments were {} appointment(s).'.format(df.query('patient_id==3723378598914').patient_id.value_counts().reset_index().iloc[0,1]))\n",
    "df.query('patient_id== 3723378598914').iloc[:,[0,5,14,15]]"
   ]
  },
  {
   "cell_type": "code",
   "execution_count": 785,
   "id": "b96e6964-8753-4fd2-8b19-54d7f81cedee",
   "metadata": {},
   "outputs": [
    {
     "data": {
      "text/html": [
       "<style type=\"text/css\">\n",
       "</style>\n",
       "<table id=\"T_c1ff5\">\n",
       "  <thead>\n",
       "    <tr>\n",
       "      <th id=\"T_c1ff5_level0_col0\" class=\"col_heading level0 col0\" >gender</th>\n",
       "      <th id=\"T_c1ff5_level0_col1\" class=\"col_heading level0 col1\" >patient_id</th>\n",
       "    </tr>\n",
       "  </thead>\n",
       "  <tbody>\n",
       "    <tr>\n",
       "      <td id=\"T_c1ff5_row0_col0\" class=\"data row0 col0\" >F</td>\n",
       "      <td id=\"T_c1ff5_row0_col1\" class=\"data row0 col1\" >40046</td>\n",
       "    </tr>\n",
       "    <tr>\n",
       "      <td id=\"T_c1ff5_row1_col0\" class=\"data row1 col0\" >M</td>\n",
       "      <td id=\"T_c1ff5_row1_col1\" class=\"data row1 col1\" >22253</td>\n",
       "    </tr>\n",
       "  </tbody>\n",
       "</table>\n"
      ],
      "text/plain": [
       "<pandas.io.formats.style.Styler at 0x202aa871210>"
      ]
     },
     "execution_count": 785,
     "metadata": {},
     "output_type": "execute_result"
    }
   ],
   "source": [
    "# Exploring Gender Column:\n",
    "df.groupby('gender').patient_id.nunique().reset_index().rename(columns={'index':'gender','pacient_id':'count'}).style.hide()\n"
   ]
  },
  {
   "cell_type": "code",
   "execution_count": 786,
   "id": "96010c34-783e-423e-ba2d-97c95cb7badf",
   "metadata": {},
   "outputs": [
    {
     "data": {
      "image/png": "[encoded data removed]",
      "text/plain": [
       "<Figure size 400x400 with 1 Axes>"
      ]
     },
     "metadata": {},
     "output_type": "display_data"
    }
   ],
   "source": [
    "x=df.groupby('gender').patient_id.nunique()\n",
    "label = 'Female','Male'\n",
    "text = ''' The dataset recorded:\\n\\n - 40,046 female patients with a percentage of 64%\\n\n",
    " - 22,253 male patients with a percentage of 36%'''\n",
    "plt.subplots(figsize = (4,4))\n",
    "plt.pie(x, labels=label, colors= ['#f9bdc2','#5e6b91'], autopct='%1.0f%%',labeldistance=.4, wedgeprops={\"linewidth\": 1.5, \"edgecolor\": \"white\"} )\n",
    "plt.title('Gender Percentage')\n",
    "plt.text(1.5,0,text,ha='left',va='bottom',fontsize = 10, weight = 'normal');\n"
   ]
  },
  {
   "cell_type": "code",
   "execution_count": 787,
   "id": "8548eb88-3583-4b09-92f3-0154ac3db73d",
   "metadata": {},
   "outputs": [
    {
     "data": {
      "image/png": "[encoded data removed]",
      "text/plain": [
       "<Figure size 500x500 with 1 Axes>"
      ]
     },
     "metadata": {},
     "output_type": "display_data"
    }
   ],
   "source": [
    "# Exploring the date_diff:\n",
    "x= df.date_diff\n",
    "notes= '''- Average = 10 days (between schedule date & appointment date)\\n\\n\n",
    "- Minimum = 0 days (the appointment date was at the same day of schedule date)\\n\\n\n",
    "- Maximum = 197 days (between schedule date & appointment date)\\n\\n\n",
    "- 1st Quartile = 0 days (equals Minimum & equals Mode)\\n\\n\n",
    "- Median = 4 days (between schedule date & appointment date)\\n\\n\n",
    "- 3rd Quartile = 15 days (between schedule date & appointment date)\\n\\n\n",
    "\"The data regarding the comparison between schedule date & Appointment date are right skewed \"'''\n",
    "plt.subplots(figsize = (5,5))\n",
    "plt.boxplot( x,showmeans = True, meanline  = True,showcaps = True,medianprops={ \"color\" : \"#805d87\",\"linewidth\": 2},\n",
    "            boxprops={\"color\":\"black\",\"linewidth\": 3},whiskerprops={\"color\": \"black\", \"linewidth\": 3},\n",
    "            capprops={\"color\": \"black\", \"linewidth\": 3},meanprops = {\"color\": \"#5e6b91\",\"linewidth\": 2 })\n",
    "for i, v in enumerate(time_stats.iloc[1:,1]):\n",
    "  plt.text(1.1,v, f'{v:.0f} days', ha='left', va='center',fontsize=7)\n",
    "plt.title('Date Difference Five-Number Summary', fontsize = 14)\n",
    "plt.xticks([1],['date_diff'], fontsize = 14)\n",
    "plt.yticks(fontsize = 14)\n",
    "plt.text(1.6,100,notes,ha='left',va='center',fontsize = 10, weight = 'normal');"
   ]
  },
  {
   "cell_type": "code",
   "execution_count": 788,
   "id": "e9fef987-ccd9-4863-8549-45fbb9089574",
   "metadata": {},
   "outputs": [
    {
     "data": {
      "text/html": [
       "<style type=\"text/css\">\n",
       "</style>\n",
       "<table id=\"T_6bebf\">\n",
       "  <thead>\n",
       "    <tr>\n",
       "      <th id=\"T_6bebf_level0_col0\" class=\"col_heading level0 col0\" >age_stages</th>\n",
       "      <th id=\"T_6bebf_level0_col1\" class=\"col_heading level0 col1\" >count</th>\n",
       "    </tr>\n",
       "  </thead>\n",
       "  <tbody>\n",
       "    <tr>\n",
       "      <td id=\"T_6bebf_row0_col0\" class=\"data row0 col0\" >teenage</td>\n",
       "      <td id=\"T_6bebf_row0_col1\" class=\"data row0 col1\" >6962</td>\n",
       "    </tr>\n",
       "    <tr>\n",
       "      <td id=\"T_6bebf_row1_col0\" class=\"data row1 col0\" >elderly</td>\n",
       "      <td id=\"T_6bebf_row1_col1\" class=\"data row1 col1\" >7711</td>\n",
       "    </tr>\n",
       "    <tr>\n",
       "      <td id=\"T_6bebf_row2_col0\" class=\"data row2 col0\" >child</td>\n",
       "      <td id=\"T_6bebf_row2_col1\" class=\"data row2 col1\" >12675</td>\n",
       "    </tr>\n",
       "    <tr>\n",
       "      <td id=\"T_6bebf_row3_col0\" class=\"data row3 col0\" >adult</td>\n",
       "      <td id=\"T_6bebf_row3_col1\" class=\"data row3 col1\" >14897</td>\n",
       "    </tr>\n",
       "    <tr>\n",
       "      <td id=\"T_6bebf_row4_col0\" class=\"data row4 col0\" >middle_aged</td>\n",
       "      <td id=\"T_6bebf_row4_col1\" class=\"data row4 col1\" >20054</td>\n",
       "    </tr>\n",
       "  </tbody>\n",
       "</table>\n"
      ],
      "text/plain": [
       "<pandas.io.formats.style.Styler at 0x202aa9a8cd0>"
      ]
     },
     "execution_count": 788,
     "metadata": {},
     "output_type": "execute_result"
    }
   ],
   "source": [
    "# Exploring age_stages column:\n",
    "# Category Count:\n",
    "age_stage_count=df.groupby(['age_stages']).patient_id.nunique().reset_index().rename(columns={\"patient_id\":\"count\"})\n",
    "age_stage_count.sort_values('count').style.hide()\n"
   ]
  },
  {
   "cell_type": "code",
   "execution_count": 789,
   "id": "4d68c2bb-8fab-4653-a7ec-f986177668ea",
   "metadata": {},
   "outputs": [
    {
     "data": {
      "text/html": [
       "<style type=\"text/css\">\n",
       "</style>\n",
       "<table id=\"T_5b209\">\n",
       "  <thead>\n",
       "    <tr>\n",
       "      <th id=\"T_5b209_level0_col0\" class=\"col_heading level0 col0\" >age_stages</th>\n",
       "      <th id=\"T_5b209_level0_col1\" class=\"col_heading level0 col1\" >avg_age</th>\n",
       "    </tr>\n",
       "  </thead>\n",
       "  <tbody>\n",
       "    <tr>\n",
       "      <td id=\"T_5b209_row0_col0\" class=\"data row0 col0\" >child</td>\n",
       "      <td id=\"T_5b209_row0_col1\" class=\"data row0 col1\" >4.977444</td>\n",
       "    </tr>\n",
       "    <tr>\n",
       "      <td id=\"T_5b209_row1_col0\" class=\"data row1 col0\" >teenage</td>\n",
       "      <td id=\"T_5b209_row1_col1\" class=\"data row1 col1\" >17.269792</td>\n",
       "    </tr>\n",
       "    <tr>\n",
       "      <td id=\"T_5b209_row2_col0\" class=\"data row2 col0\" >adult</td>\n",
       "      <td id=\"T_5b209_row2_col1\" class=\"data row2 col1\" >31.291511</td>\n",
       "    </tr>\n",
       "    <tr>\n",
       "      <td id=\"T_5b209_row3_col0\" class=\"data row3 col0\" >middle_aged</td>\n",
       "      <td id=\"T_5b209_row3_col1\" class=\"data row3 col1\" >52.914943</td>\n",
       "    </tr>\n",
       "    <tr>\n",
       "      <td id=\"T_5b209_row4_col0\" class=\"data row4 col0\" >elderly</td>\n",
       "      <td id=\"T_5b209_row4_col1\" class=\"data row4 col1\" >74.726437</td>\n",
       "    </tr>\n",
       "  </tbody>\n",
       "</table>\n"
      ],
      "text/plain": [
       "<pandas.io.formats.style.Styler at 0x202aa9b30d0>"
      ]
     },
     "execution_count": 789,
     "metadata": {},
     "output_type": "execute_result"
    }
   ],
   "source": [
    "# Calculating age averages of each category:\n",
    "avg_age=df.groupby('age_stages').age.mean().reset_index().rename(columns={'age':'avg_age'})\n",
    "avg_age.sort_values('avg_age').style.hide()"
   ]
  },
  {
   "cell_type": "code",
   "execution_count": 790,
   "id": "dbbedb80-f9b8-4709-b0bb-e308f85dfc15",
   "metadata": {},
   "outputs": [
    {
     "data": {
      "image/png": "[encoded data removed]",
      "text/plain": [
       "<Figure size 400x400 with 1 Axes>"
      ]
     },
     "metadata": {},
     "output_type": "display_data"
    },
    {
     "data": {
      "image/png": "[encoded data removed]",
      "text/plain": [
       "<Figure size 500x500 with 1 Axes>"
      ]
     },
     "metadata": {},
     "output_type": "display_data"
    }
   ],
   "source": [
    "x=df.groupby(['age_stages']).patient_id.nunique()\n",
    "notes = ''' The dataset recorded:\\n\\n - 12,675 child patients, representing 20.35% of the total data, with an average age of 4.98 years.\\n\n",
    " - 6,962 teenage patients, representing 11.18% of the total data, with an average age of 17.26 years.\\n\n",
    " - 14,897 adult patients, representing 23.91% of the total data, with an average age of 31.29 years.\\n\n",
    " - 20,054 middle-aged patients, representing 32.19% of the total data, with an average age of 52.91 years\\n\n",
    " - 7,711 elderly patients, representing 11.18% of the total data, with an average age of 74.73 years.\\n'''\n",
    "plt.subplots(figsize = (4,4))\n",
    "plt.pie(x,labels = age_stage_count.age_stages,  colors= ['#f9bdc2','#805d87','#f4e5dd','#bbc8e2','#5e6b91'], autopct='%1.2f%%',labeldistance=1,pctdistance=.6,\n",
    "        wedgeprops={\"linewidth\": 1.5, \"edgecolor\": \"white\"} )\n",
    "plt.title('Distribution of patients according to Age Stage')\n",
    "plt.text(1.8,0,notes,ha='left',va='top',fontsize = 10, weight = 'normal')\n",
    "plt.show();\n",
    "\n",
    "x=avg_age.sort_values('avg_age').age_stages.to_list()\n",
    "y=avg_age.sort_values('avg_age').avg_age.to_list()\n",
    "plt.subplots(figsize = (5,5))\n",
    "plt.bar(x,y,color= ['#f4e5dd','#5e6b91','#805d87','#f9bdc2','#bbc8e2'], alpha = 1)\n",
    "for i, v in enumerate(avg_age.sort_values('avg_age').avg_age):\n",
    "  plt.text(i,v, f\"{v:.2f}\", ha='center', va='bottom',fontsize=7);\n",
    "plt.title('Average Ages', fontsize = 8);\n",
    "plt.xticks(fontsize = 10, rotation = 90)\n",
    "plt.yticks(fontsize = 10)\n",
    "plt.show();\n"
   ]
  },
  {
   "cell_type": "code",
   "execution_count": 791,
   "id": "3dee3d21-5dd6-462f-8f7c-6ad1c66530fb",
   "metadata": {},
   "outputs": [
    {
     "data": {
      "text/html": [
       "<style type=\"text/css\">\n",
       "</style>\n",
       "<table id=\"T_9ecd6\">\n",
       "  <thead>\n",
       "    <tr>\n",
       "      <th id=\"T_9ecd6_level0_col0\" class=\"col_heading level0 col0\" >age_stages</th>\n",
       "      <th id=\"T_9ecd6_level0_col1\" class=\"col_heading level0 col1\" >gender</th>\n",
       "      <th id=\"T_9ecd6_level0_col2\" class=\"col_heading level0 col2\" >count</th>\n",
       "    </tr>\n",
       "  </thead>\n",
       "  <tbody>\n",
       "    <tr>\n",
       "      <td id=\"T_9ecd6_row0_col0\" class=\"data row0 col0\" >adult</td>\n",
       "      <td id=\"T_9ecd6_row0_col1\" class=\"data row0 col1\" >F</td>\n",
       "      <td id=\"T_9ecd6_row0_col2\" class=\"data row0 col2\" >10563</td>\n",
       "    </tr>\n",
       "    <tr>\n",
       "      <td id=\"T_9ecd6_row1_col0\" class=\"data row1 col0\" >adult</td>\n",
       "      <td id=\"T_9ecd6_row1_col1\" class=\"data row1 col1\" >M</td>\n",
       "      <td id=\"T_9ecd6_row1_col2\" class=\"data row1 col2\" >4334</td>\n",
       "    </tr>\n",
       "    <tr>\n",
       "      <td id=\"T_9ecd6_row2_col0\" class=\"data row2 col0\" >child</td>\n",
       "      <td id=\"T_9ecd6_row2_col1\" class=\"data row2 col1\" >F</td>\n",
       "      <td id=\"T_9ecd6_row2_col2\" class=\"data row2 col2\" >6156</td>\n",
       "    </tr>\n",
       "    <tr>\n",
       "      <td id=\"T_9ecd6_row3_col0\" class=\"data row3 col0\" >child</td>\n",
       "      <td id=\"T_9ecd6_row3_col1\" class=\"data row3 col1\" >M</td>\n",
       "      <td id=\"T_9ecd6_row3_col2\" class=\"data row3 col2\" >6519</td>\n",
       "    </tr>\n",
       "    <tr>\n",
       "      <td id=\"T_9ecd6_row4_col0\" class=\"data row4 col0\" >elderly</td>\n",
       "      <td id=\"T_9ecd6_row4_col1\" class=\"data row4 col1\" >F</td>\n",
       "      <td id=\"T_9ecd6_row4_col2\" class=\"data row4 col2\" >5129</td>\n",
       "    </tr>\n",
       "    <tr>\n",
       "      <td id=\"T_9ecd6_row5_col0\" class=\"data row5 col0\" >elderly</td>\n",
       "      <td id=\"T_9ecd6_row5_col1\" class=\"data row5 col1\" >M</td>\n",
       "      <td id=\"T_9ecd6_row5_col2\" class=\"data row5 col2\" >2582</td>\n",
       "    </tr>\n",
       "    <tr>\n",
       "      <td id=\"T_9ecd6_row6_col0\" class=\"data row6 col0\" >middle_aged</td>\n",
       "      <td id=\"T_9ecd6_row6_col1\" class=\"data row6 col1\" >F</td>\n",
       "      <td id=\"T_9ecd6_row6_col2\" class=\"data row6 col2\" >13641</td>\n",
       "    </tr>\n",
       "    <tr>\n",
       "      <td id=\"T_9ecd6_row7_col0\" class=\"data row7 col0\" >middle_aged</td>\n",
       "      <td id=\"T_9ecd6_row7_col1\" class=\"data row7 col1\" >M</td>\n",
       "      <td id=\"T_9ecd6_row7_col2\" class=\"data row7 col2\" >6413</td>\n",
       "    </tr>\n",
       "    <tr>\n",
       "      <td id=\"T_9ecd6_row8_col0\" class=\"data row8 col0\" >teenage</td>\n",
       "      <td id=\"T_9ecd6_row8_col1\" class=\"data row8 col1\" >F</td>\n",
       "      <td id=\"T_9ecd6_row8_col2\" class=\"data row8 col2\" >4557</td>\n",
       "    </tr>\n",
       "    <tr>\n",
       "      <td id=\"T_9ecd6_row9_col0\" class=\"data row9 col0\" >teenage</td>\n",
       "      <td id=\"T_9ecd6_row9_col1\" class=\"data row9 col1\" >M</td>\n",
       "      <td id=\"T_9ecd6_row9_col2\" class=\"data row9 col2\" >2405</td>\n",
       "    </tr>\n",
       "  </tbody>\n",
       "</table>\n"
      ],
      "text/plain": [
       "<pandas.io.formats.style.Styler at 0x202985759d0>"
      ]
     },
     "execution_count": 791,
     "metadata": {},
     "output_type": "execute_result"
    }
   ],
   "source": [
    "# Category count when classified into gender:\n",
    "count_stages_gender=df.groupby(['age_stages','gender']).patient_id.nunique().reset_index().rename(columns={'patient_id':'count'})\n",
    "count_stages_gender.sort_values('age_stages').style.hide()\n"
   ]
  },
  {
   "cell_type": "code",
   "execution_count": 792,
   "id": "200e2a27-91af-406c-af5e-ec2fb77b9682",
   "metadata": {},
   "outputs": [
    {
     "data": {
      "text/html": [
       "<style type=\"text/css\">\n",
       "</style>\n",
       "<table id=\"T_66b8f\">\n",
       "  <thead>\n",
       "    <tr>\n",
       "      <th id=\"T_66b8f_level0_col0\" class=\"col_heading level0 col0\" >age_stages</th>\n",
       "      <th id=\"T_66b8f_level0_col1\" class=\"col_heading level0 col1\" >gender</th>\n",
       "      <th id=\"T_66b8f_level0_col2\" class=\"col_heading level0 col2\" >average_age</th>\n",
       "    </tr>\n",
       "  </thead>\n",
       "  <tbody>\n",
       "    <tr>\n",
       "      <td id=\"T_66b8f_row0_col0\" class=\"data row0 col0\" >child</td>\n",
       "      <td id=\"T_66b8f_row0_col1\" class=\"data row0 col1\" >F</td>\n",
       "      <td id=\"T_66b8f_row0_col2\" class=\"data row0 col2\" >4.951042</td>\n",
       "    </tr>\n",
       "    <tr>\n",
       "      <td id=\"T_66b8f_row1_col0\" class=\"data row1 col0\" >child</td>\n",
       "      <td id=\"T_66b8f_row1_col1\" class=\"data row1 col1\" >M</td>\n",
       "      <td id=\"T_66b8f_row1_col2\" class=\"data row1 col2\" >5.001451</td>\n",
       "    </tr>\n",
       "    <tr>\n",
       "      <td id=\"T_66b8f_row2_col0\" class=\"data row2 col0\" >teenage</td>\n",
       "      <td id=\"T_66b8f_row2_col1\" class=\"data row2 col1\" >M</td>\n",
       "      <td id=\"T_66b8f_row2_col2\" class=\"data row2 col2\" >16.717079</td>\n",
       "    </tr>\n",
       "    <tr>\n",
       "      <td id=\"T_66b8f_row3_col0\" class=\"data row3 col0\" >teenage</td>\n",
       "      <td id=\"T_66b8f_row3_col1\" class=\"data row3 col1\" >F</td>\n",
       "      <td id=\"T_66b8f_row3_col2\" class=\"data row3 col2\" >17.541277</td>\n",
       "    </tr>\n",
       "    <tr>\n",
       "      <td id=\"T_66b8f_row4_col0\" class=\"data row4 col0\" >adult</td>\n",
       "      <td id=\"T_66b8f_row4_col1\" class=\"data row4 col1\" >F</td>\n",
       "      <td id=\"T_66b8f_row4_col2\" class=\"data row4 col2\" >31.140553</td>\n",
       "    </tr>\n",
       "    <tr>\n",
       "      <td id=\"T_66b8f_row5_col0\" class=\"data row5 col0\" >adult</td>\n",
       "      <td id=\"T_66b8f_row5_col1\" class=\"data row5 col1\" >M</td>\n",
       "      <td id=\"T_66b8f_row5_col2\" class=\"data row5 col2\" >31.675907</td>\n",
       "    </tr>\n",
       "    <tr>\n",
       "      <td id=\"T_66b8f_row6_col0\" class=\"data row6 col0\" >middle_aged</td>\n",
       "      <td id=\"T_66b8f_row6_col1\" class=\"data row6 col1\" >F</td>\n",
       "      <td id=\"T_66b8f_row6_col2\" class=\"data row6 col2\" >52.826857</td>\n",
       "    </tr>\n",
       "    <tr>\n",
       "      <td id=\"T_66b8f_row7_col0\" class=\"data row7 col0\" >middle_aged</td>\n",
       "      <td id=\"T_66b8f_row7_col1\" class=\"data row7 col1\" >M</td>\n",
       "      <td id=\"T_66b8f_row7_col2\" class=\"data row7 col2\" >53.105911</td>\n",
       "    </tr>\n",
       "    <tr>\n",
       "      <td id=\"T_66b8f_row8_col0\" class=\"data row8 col0\" >elderly</td>\n",
       "      <td id=\"T_66b8f_row8_col1\" class=\"data row8 col1\" >M</td>\n",
       "      <td id=\"T_66b8f_row8_col2\" class=\"data row8 col2\" >74.604496</td>\n",
       "    </tr>\n",
       "    <tr>\n",
       "      <td id=\"T_66b8f_row9_col0\" class=\"data row9 col0\" >elderly</td>\n",
       "      <td id=\"T_66b8f_row9_col1\" class=\"data row9 col1\" >F</td>\n",
       "      <td id=\"T_66b8f_row9_col2\" class=\"data row9 col2\" >74.786067</td>\n",
       "    </tr>\n",
       "  </tbody>\n",
       "</table>\n"
      ],
      "text/plain": [
       "<pandas.io.formats.style.Styler at 0x202aabfb4d0>"
      ]
     },
     "execution_count": 792,
     "metadata": {},
     "output_type": "execute_result"
    }
   ],
   "source": [
    "# Category averages when classifies by gender:\n",
    "avg_age_gender=df.groupby(['age_stages','gender']).age.mean().reset_index().rename(columns={'age':'average_age'})\n",
    "avg_age_gender.sort_values('average_age').style.hide()"
   ]
  },
  {
   "cell_type": "code",
   "execution_count": 929,
   "id": "ba684d9d-4235-4a54-9c60-e30ed08dd043",
   "metadata": {},
   "outputs": [
    {
     "data": {
      "image/png": "[encoded data removed]",
      "text/plain": [
       "<Figure size 500x500 with 1 Axes>"
      ]
     },
     "metadata": {},
     "output_type": "display_data"
    },
    {
     "data": {
      "image/png": "[encoded data removed]",
      "text/plain": [
       "<Figure size 600x600 with 1 Axes>"
      ]
     },
     "metadata": {},
     "output_type": "display_data"
    }
   ],
   "source": [
    "x=df.groupby(['age_stages','gender']).patient_id.nunique()\n",
    "\n",
    "plt.subplots(figsize = (5,5))\n",
    "plt.pie(x,labels = count_stages_gender.gender +\" - \"+ count_stages_gender.age_stages,  \n",
    "        colors= ['#f9bdc2','#f9bdc2','#805d87','#805d87','#f4e5dd','#f4e5dd','#bbc8e2','#bbc8e2','#5e6b91','#5e6b91'], \n",
    "        autopct='%1.2f%%',labeldistance=1,pctdistance=.6,textprops={'fontsize': 8},\n",
    "        wedgeprops={\"linewidth\": 1.5, \"edgecolor\": \"white\"} )\n",
    "plt.title('Distribution of patients according to Age Stage & Gender',fontsize =12)\n",
    "plt.show();\n",
    "\n",
    "stage=avg_age_gender.sort_values('average_age').age_stages.unique().tolist()\n",
    "avg = avg_age_gender.sort_values('average_age').gender.tolist()\n",
    "gender_f=avg_age_gender.sort_values('average_age').query('gender==\"F\"').average_age.tolist()\n",
    "gender_m=avg_age_gender.sort_values('average_age').query('gender==\"M\"').average_age.tolist()\n",
    "width=.4\n",
    "x=np.arange(len(gender_f))\n",
    "locations= x+width/2\n",
    "plt.subplots(figsize = (6,6))\n",
    "plt.bar(x,gender_f,width,color=['#f4e5dd','#5e6b91','#805d87','#f9bdc2','#bbc8e2'], alpha= .7)\n",
    "plt.bar(x + width,gender_m,width,color=['#f4e5dd','#5e6b91','#805d87','#f9bdc2','#bbc8e2'], alpha= 1)\n",
    "for i, v in enumerate(gender_f):\n",
    "  plt.text(i,v, f\"F\\n{v:.2f}\", ha='center', va='bottom',fontsize=7)\n",
    "for i, v in enumerate(gender_m):\n",
    "  plt.text(i+width,v, f\"M\\n{v:.2f}\", ha='center', va='bottom',fontsize=7) \n",
    "plt.xticks(locations, stage,fontsize = 12, rotation = 90)\n",
    "plt.yticks(np.arange(0,90,10),fontsize = 12)\n",
    "plt.title('Average Ages / Gender', fontsize =12)\n",
    "plt.show();"
   ]
  },
  {
   "cell_type": "code",
   "execution_count": null,
   "id": "931b9602-f975-4d2f-82fe-d6c5b37fec2e",
   "metadata": {},
   "outputs": [],
   "source": []
  },
  {
   "cell_type": "code",
   "execution_count": 795,
   "id": "508a3c6a-5788-4b92-b312-3a5ec9183e90",
   "metadata": {},
   "outputs": [
    {
     "ename": "AttributeError",
     "evalue": "'DataFrame' object has no attribute 'year'",
     "output_type": "error",
     "traceback": [
      "\u001b[1;31m---------------------------------------------------------------------------\u001b[0m",
      "\u001b[1;31mAttributeError\u001b[0m                            Traceback (most recent call last)",
      "\u001b[1;32m~\\AppData\\Local\\Temp\\ipykernel_11116\\3387414144.py\u001b[0m in \u001b[0;36m?\u001b[1;34m()\u001b[0m\n\u001b[1;32m----> 1\u001b[1;33m \u001b[0myear\u001b[0m \u001b[1;33m=\u001b[0m \u001b[0mdf\u001b[0m\u001b[1;33m.\u001b[0m\u001b[0myear\u001b[0m\u001b[1;33m.\u001b[0m\u001b[0munique\u001b[0m\u001b[1;33m(\u001b[0m\u001b[1;33m)\u001b[0m\u001b[1;33m.\u001b[0m\u001b[0mtolist\u001b[0m\u001b[1;33m(\u001b[0m\u001b[1;33m)\u001b[0m\u001b[1;33m\u001b[0m\u001b[1;33m\u001b[0m\u001b[0m\n\u001b[0m\u001b[0;32m      2\u001b[0m \u001b[0mwidth\u001b[0m\u001b[1;33m=\u001b[0m\u001b[1;36m.45\u001b[0m\u001b[1;33m\u001b[0m\u001b[1;33m\u001b[0m\u001b[0m\n\u001b[0;32m      3\u001b[0m \u001b[0mx\u001b[0m\u001b[1;33m=\u001b[0m\u001b[0mnp\u001b[0m\u001b[1;33m.\u001b[0m\u001b[0marange\u001b[0m\u001b[1;33m(\u001b[0m\u001b[0mlen\u001b[0m\u001b[1;33m(\u001b[0m\u001b[0mprop_low_year\u001b[0m\u001b[1;33m)\u001b[0m\u001b[1;33m)\u001b[0m\u001b[1;33m\u001b[0m\u001b[1;33m\u001b[0m\u001b[0m\n\u001b[0;32m      4\u001b[0m \u001b[0mlocations\u001b[0m \u001b[1;33m=\u001b[0m \u001b[0mx\u001b[0m \u001b[1;33m+\u001b[0m \u001b[0mwidth\u001b[0m \u001b[1;33m/\u001b[0m \u001b[1;36m2\u001b[0m\u001b[1;33m\u001b[0m\u001b[1;33m\u001b[0m\u001b[0m\n",
      "\u001b[1;32m~\\anaconda3\\Lib\\site-packages\\pandas\\core\\generic.py\u001b[0m in \u001b[0;36m?\u001b[1;34m(self, name)\u001b[0m\n\u001b[0;32m   5898\u001b[0m             \u001b[1;32mand\u001b[0m \u001b[0mname\u001b[0m \u001b[1;32mnot\u001b[0m \u001b[1;32min\u001b[0m \u001b[0mself\u001b[0m\u001b[1;33m.\u001b[0m\u001b[0m_accessors\u001b[0m\u001b[1;33m\u001b[0m\u001b[1;33m\u001b[0m\u001b[0m\n\u001b[0;32m   5899\u001b[0m             \u001b[1;32mand\u001b[0m \u001b[0mself\u001b[0m\u001b[1;33m.\u001b[0m\u001b[0m_info_axis\u001b[0m\u001b[1;33m.\u001b[0m\u001b[0m_can_hold_identifiers_and_holds_name\u001b[0m\u001b[1;33m(\u001b[0m\u001b[0mname\u001b[0m\u001b[1;33m)\u001b[0m\u001b[1;33m\u001b[0m\u001b[1;33m\u001b[0m\u001b[0m\n\u001b[0;32m   5900\u001b[0m         ):\n\u001b[0;32m   5901\u001b[0m             \u001b[1;32mreturn\u001b[0m \u001b[0mself\u001b[0m\u001b[1;33m[\u001b[0m\u001b[0mname\u001b[0m\u001b[1;33m]\u001b[0m\u001b[1;33m\u001b[0m\u001b[1;33m\u001b[0m\u001b[0m\n\u001b[1;32m-> 5902\u001b[1;33m         \u001b[1;32mreturn\u001b[0m \u001b[0mobject\u001b[0m\u001b[1;33m.\u001b[0m\u001b[0m__getattribute__\u001b[0m\u001b[1;33m(\u001b[0m\u001b[0mself\u001b[0m\u001b[1;33m,\u001b[0m \u001b[0mname\u001b[0m\u001b[1;33m)\u001b[0m\u001b[1;33m\u001b[0m\u001b[1;33m\u001b[0m\u001b[0m\n\u001b[0m",
      "\u001b[1;31mAttributeError\u001b[0m: 'DataFrame' object has no attribute 'year'"
     ]
    }
   ],
   "source": [
    "year = df.year.unique().tolist()  \n",
    "width=.45\n",
    "x=np.arange(len(prop_low_year))\n",
    "locations = x + width / 2\n",
    "text = '''This chart shows that:\n",
    "\\n- The Proportions  of Total Number of Recorded Rates/Year of rates >= 90%\n",
    "   is more than the Proportions of Total Number of Recorded Rates/Year\n",
    "   of rates < 90% for the Female Literacy Rates.\n",
    "      \\n- The difference between each proportion in each year is high\n",
    "   except in 2006.'''\n",
    "plt.subplots(figsize = (10,10));\n",
    "plt.title('The Proportions of Total Number of Recorded Female Literacy Rates / Year', fontsize = 14);\n",
    "plt.bar(x,prop_low_year,width,color='#E9967A', alpha= 1, label= \"<90%\")\n",
    "plt.bar(x + width,prop_high_year,width,color='#CD5C5C', alpha= 1, label= \">=90%\")\n",
    "plt.xticks(locations, year,fontsize = 12, rotation = 90)\n",
    "plt.yticks(np.arange(0,1,.05),fontsize = 12)\n",
    "plt.text(21,.5,text,ha='left',va='center',fontsize = 16, weight = 'normal')\n",
    "plt.legend(fontsize=14)\n",
    "plt.show();"
   ]
  }
 ],
 "metadata": {
  "kernelspec": {
   "display_name": "Python 3 (ipykernel)",
   "language": "python",
   "name": "python3"
  },
  "language_info": {
   "codemirror_mode": {
    "name": "ipython",
    "version": 3
   },
   "file_extension": ".py",
   "mimetype": "text/x-python",
   "name": "python",
   "nbconvert_exporter": "python",
   "pygments_lexer": "ipython3",
   "version": "3.11.4"
  }
 },
 "nbformat": 4,
 "nbformat_minor": 5
}
